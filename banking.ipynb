{
 "cells": [
  {
   "cell_type": "markdown",
   "metadata": {
    "id": "lsKv9TEyHVxt"
   },
   "source": [
    "# **A complete analysis for predicting banking behavior by the classification method.**\n",
    "\n",
    "##                      <center>  By Huanwang (Henry) Yang </center>\n",
    "\n",
    "---\n",
    "\n",
    "## **Objective:**\n",
    "Build a predictive model to score each potential customer’s propensity of subscribing a term deposit, as well as understanding which customer characteristics are most important in driving purchasing behavior, in order to inform future marketing segmentation personalization.\n",
    "\n",
    "## **Dataset:**\n",
    "The data was obtained from the UCI data resource http://archive.ics.uci.edu/ml/datasets/Bank+Marketing\n",
    "\n",
    "## **Modeling procedures:**\n",
    "The XGBoost, CNN (CONV1D) and LogisticRegression models were built for binary classification analysis. I used different datasets to test the differences among the models. \n",
    "<br>\n",
    "Note: <font color=red >the attribute  'duration'  has been removed from all the models due to the reason as described in the original datasets: </font><br>\n",
    "\n",
    "<i>last contact duration, in seconds (numeric). Important note: this attribute highly affects the output target (e.g., if duration=0 then y='no'). Yet, the duration is not known before a call is performed. Also, after the end of the call y is obviously known. Thus, this input should only be included for benchmark purposes and should be discarded if the intention is to have a realistic predictive model.</i>\n",
    "\n",
    "<br>\n",
    "<b>The diagram below shows the modeling procedures in the jupyter notebook</b>\n",
    "<img src=\"banking-img.001.jpeg\"  >\n",
    "\n",
    "\n",
    "<li> Model-1: XGBoost using data for numerical features only</li> \n",
    "<li> Model-2: XGBoost using data for categorical features only</li> \n",
    "<li> Model-3: XGBoost using data for the full features (numerical + categorical) </li> \n",
    "<li> Model-4: XGBoost using data for the full features, but balancing the two classies using SMOTE. </li> \n",
    "<li> Model-5: CNN (CONV1D) using data for the full features </li> \n",
    "<li> Model-6: LogisticRegression using data for full features (use statsmodels for details coefficients) </li> \n",
    "\n",
    "\n",
    "<b> A summary of result: </b>\n",
    "\n",
    "<table style=\"width:100%\">\n",
    "  \n",
    " <tr> <th>Model:</th>   <td>AUC_ROC</td>  <td>Accuracy</td>  <td>precision</td> <td>recall</td><td>f1_score_mean</td> </tr>\n",
    "\n",
    "<tr> <th>Model-1</th>   <td> 0.87</td>  <td>0.80</td>  <td>0.70</td><td>0.74</td><td>0.72</td> </tr>\n",
    "\n",
    "<tr> <th>Model-2</th>   <td> 0.88</td>  <td>0.77</td>  <td>0.70</td><td>0.68</td><td>0.69</td> </tr>\n",
    "\n",
    "<tr> <th>Model-3</th>   <td> 0.87</td>  <td>0.80</td>  <td>0.69</td><td>0.75</td><td>0.72</td> </tr>\n",
    "\n",
    "<tr> <th>Model-4</th>   <td> 0.86</td>  <td>0.79</td>  <td>0.68</td><td>0.74</td><td>0.70</td> </tr>\n",
    "\n",
    "<tr> <th>Model-5</th>   <td> 0.90</td>  <td>0.79</td>  <td>0.80</td><td>0.58</td><td>0.61</td> </tr>\n",
    "\n",
    "</table>\n",
    "<br>\n",
    "From all the modelings, it looks like the model-3 is among the best. It is interesting to note that model-1 and model-2 do not differ a lot. \n",
    "\n",
    "\n",
    "## **Feature importance**\n",
    "\n",
    "The three features (below) are the most important factors for driving purchasing behavior.\n",
    "<pre> \n",
    "                        feature  importance\n",
    "                    nr.employed       0.343\n",
    "               poutcome_success       0.130\n",
    "                   emp.var.rate       0.103\n",
    "</pre> \n",
    "\n",
    "## **Conclusions:**\n",
    "\n",
    "This classification can help the manager to make business dicision based on the modeling result. The feature importance shows which customer characteristics are most important in driving purchasing behavior. The coefficients (along with the P-values) from LogisticRegression (model-6) provide a quantitive probability for the customer characteristics.\n",
    "\n",
    "<hr>"
   ]
  },
  {
   "cell_type": "markdown",
   "metadata": {
    "id": "B46AcJO1555t"
   },
   "source": [
    "# <b>1.  Load libraries </b>\n"
   ]
  },
  {
   "cell_type": "code",
   "execution_count": 1,
   "metadata": {
    "colab": {
     "base_uri": "https://localhost:8080/"
    },
    "executionInfo": {
     "elapsed": 32471,
     "status": "ok",
     "timestamp": 1622981763247,
     "user": {
      "displayName": "Huanwang Yang",
      "photoUrl": "",
      "userId": "17645169575771311833"
     },
     "user_tz": 240
    },
    "id": "SHd_b05CIS_K",
    "outputId": "9bfa6449-f713-44ff-942d-01f7c32ba532"
   },
   "outputs": [],
   "source": [
    "#set up the path (utilized the modules that I developed)\n",
    "\n",
    "rpath='/Users/huanwangyang/hyang/data-science/Pyth/ML-tune/'  #path for module\n",
    "fpath='/Users/huanwangyang/hyang/data-science/Pyth/banking-IXIS/' #path for data\n",
    "\n",
    "import warnings\n",
    "warnings.filterwarnings('ignore')\n",
    "\n",
    "import sys  \n",
    "sys.path.append(rpath)\n",
    " \n",
    "import ml_tune as tune  #A module to select the best model & hyperparameter \n",
    "import ml_utility as ut  #a utility module to plot, trasnform, select features... "
   ]
  },
  {
   "cell_type": "code",
   "execution_count": 2,
   "metadata": {
    "executionInfo": {
     "elapsed": 105,
     "status": "ok",
     "timestamp": 1622892501163,
     "user": {
      "displayName": "Huanwang Yang",
      "photoUrl": "",
      "userId": "17645169575771311833"
     },
     "user_tz": 240
    },
    "id": "JKMbVqFmHVxy"
   },
   "outputs": [],
   "source": [
    "#libraries for data manipulations\n",
    "import pandas as pd\n",
    "import numpy as np\n",
    "\n",
    "\n",
    "# all the libraries for classification algorithms (classical ML).\n",
    "\n",
    "from  sklearn.ensemble import RandomForestClassifier\n",
    "from  sklearn.ensemble import AdaBoostClassifier\n",
    "from  sklearn.ensemble import GradientBoostingClassifier\n",
    "from  sklearn.ensemble import ExtraTreesClassifier\n",
    "from  xgboost import XGBClassifier\n",
    "from  sklearn.tree import DecisionTreeClassifier\n",
    "from  sklearn.neighbors import KNeighborsClassifier #often used\n",
    "from  sklearn.neighbors import RadiusNeighborsClassifier  # if data not uniformly sampled\n",
    "from  sklearn.linear_model import LogisticRegression\n",
    "from  sklearn.linear_model import Perceptron\n",
    "from  sklearn.linear_model import SGDClassifier\n",
    "from  sklearn.svm import LinearSVC\n",
    "from  sklearn.svm import SVC\n",
    "from  sklearn.naive_bayes import GaussianNB\n",
    "from  sklearn.naive_bayes import BernoulliNB  #for binary/boolean features\n",
    "from  sklearn.discriminant_analysis import LinearDiscriminantAnalysis\n",
    "from  sklearn.discriminant_analysis import QuadraticDiscriminantAnalysis\n",
    "from  sklearn.gaussian_process import GaussianProcessClassifier\n",
    "from  sklearn.neural_network import MLPClassifier\n",
    "\n",
    "from  sklearn.model_selection import train_test_split\n",
    "from  sklearn.model_selection import cross_val_score\n",
    "\n",
    "#libraries for GLM \n",
    "import statsmodels.api as sm\n",
    "from scipy import stats\n",
    "from scipy.stats import norm\n",
    "\n",
    "#libraries for deep learning:  CNN (CONV1D)\n",
    "import tensorflow as tf\n",
    "from keras.datasets import cifar10  #load data\n",
    "from tensorflow.python.keras.layers import Dense, Flatten, BatchNormalization\n",
    "from tensorflow.python.keras.layers import Conv1D, MaxPooling1D,Dropout\n",
    "from tensorflow.python.keras import Sequential\n",
    "from tensorflow.keras.optimizers import Adam\n",
    "\n",
    "#libraries for ploting\n",
    "import seaborn as sns\n",
    "import matplotlib.pyplot as plt \n",
    "sns.set(style=\"whitegrid\", color_codes=True)\n",
    "plt.rc(\"font\", size=16)\n",
    "# allow plots to appear in the notebook\n",
    "%matplotlib inline "
   ]
  },
  {
   "cell_type": "code",
   "execution_count": 3,
   "metadata": {
    "executionInfo": {
     "elapsed": 107,
     "status": "ok",
     "timestamp": 1622892505197,
     "user": {
      "displayName": "Huanwang Yang",
      "photoUrl": "",
      "userId": "17645169575771311833"
     },
     "user_tz": 240
    },
    "id": "xERmgFoNSH8K"
   },
   "outputs": [],
   "source": [
    "#display the maximum rows & columns for DataFrame with given format\n",
    "pd.set_option('display.max_columns', 100)\n",
    "pd.set_option('display.max_rows', 200)\n",
    "pd.set_option('display.float_format', '{:.2f}'.format)\n",
    "#pd.reset_option('all') #reset all to restore the default"
   ]
  },
  {
   "cell_type": "markdown",
   "metadata": {
    "id": "gPHbhdxYrbqQ"
   },
   "source": [
    "# <b>2. Load the dataset and understand the business </b>"
   ]
  },
  {
   "cell_type": "code",
   "execution_count": 4,
   "metadata": {
    "colab": {
     "base_uri": "https://localhost:8080/"
    },
    "executionInfo": {
     "elapsed": 232,
     "status": "ok",
     "timestamp": 1622892517428,
     "user": {
      "displayName": "Huanwang Yang",
      "photoUrl": "",
      "userId": "17645169575771311833"
     },
     "user_tz": 240
    },
    "id": "scFgkgwZj0xo",
    "outputId": "9787da46-0fdf-463c-dea9-3f78979d2270"
   },
   "outputs": [
    {
     "data": {
      "text/plain": [
       "(41188, 21)"
      ]
     },
     "execution_count": 4,
     "metadata": {},
     "output_type": "execute_result"
    }
   ],
   "source": [
    "#load data and display some information\n",
    "df=pd.read_csv(fpath+'bank-additional-full.csv', encoding = \"ISO-8859-1\", sep=';')\n",
    "df.shape"
   ]
  },
  {
   "cell_type": "markdown",
   "metadata": {
    "id": "lszGcCl6rudp"
   },
   "source": [
    "The dataset is about the direct marketing campaigns (phone calls) of a Portuguese banking institution. It has 41188 instances and 21 attributes.\n",
    "\n",
    "Below is the feature Information:\n",
    "\n",
    "\n",
    "<b> Client information:</b><br>\n",
    "1 - age (numeric)   \n",
    "2 - job : type of job (categorical: 'admin.','blue-collar','entrepreneur','housemaid','management','retired','self-employed','services','student','technician','unemployed','unknown')  \n",
    "3 - marital : marital status (categorical: 'divorced','married','single','unknown'; note: 'divorced' means divorced or widowed)   \n",
    "4 - education (categorical: 'basic.4y','basic.6y','basic.9y','high.school', 'illiterate', 'professional.course', 'university.degree', 'unknown')  \n",
    "5 - default: has credit in default? (categorical: 'no','yes','unknown')  \n",
    "6 - housing: has housing loan? (categorical: 'no','yes','unknown')  \n",
    "7 - loan: has personal loan? (categorical: 'no','yes','unknown')  \n",
    "\n",
    "<b> related with the last contact of the current campaign:</b><br>\n",
    "8 - contact: contact communication type (categorical: 'cellular','telephone')  \n",
    "9 - month: last contact month of year (categorical: 'jan', 'feb', 'mar', ..., 'nov', 'dec')  \n",
    "10 - day_of_week: last contact day of the week (categorical: 'mon','tue','wed','thu','fri')  \n",
    "11 - duration: <i>last contact duration, in seconds (numeric). Important note: this attribute highly affects the output target (e.g., if duration=0 then y='no'). Yet, the duration is not known before a call is performed. Also, after the end of the call y is obviously known. Thus, this input should only be included for benchmark purposes and should be discarded if the intention is to have a realistic predictive model. </i>\n",
    "  \n",
    "<b>  other attributes:</b><br>\n",
    "12 - campaign: number of contacts performed during this campaign and for this client (numeric, includes last contact)  \n",
    "13 - pdays: number of days that passed by after the client was last contacted from a previous campaign (numeric; 999 means client was not previously contacted)   \n",
    "14 - previous: number of contacts performed before this campaign and for this client (numeric)  \n",
    "15 - poutcome: outcome of the previous marketing campaign (categorical: 'failure','nonexistent','success')   \n",
    "\n",
    "<b>  social and economic context attributes </b><br>\n",
    "16 - emp.var.rate: employment variation rate - quarterly indicator (numeric)  \n",
    "17 - cons.price.idx: consumer price index - monthly indicator (numeric)   \n",
    "18 - cons.conf.idx: consumer confidence index - monthly indicator (numeric)   \n",
    "19 - euribor3m: euribor 3 month rate - daily indicator (numeric)   \n",
    "20 - nr.employed: number of employees - quarterly indicator (numeric)  \n",
    "\n",
    "<b>Output variable (desired target):</b><br>\n",
    "21 - y - has the client subscribed a term deposit? (binary: 'yes','no')"
   ]
  },
  {
   "cell_type": "markdown",
   "metadata": {
    "id": "l_XVIc7a6bAB"
   },
   "source": [
    "# <b>3. Data explorations</b>"
   ]
  },
  {
   "cell_type": "markdown",
   "metadata": {
    "id": "Dx9oNHVowvOU"
   },
   "source": [
    "<b>check basic information for each feature</b>\n",
    "1. The numerical data has small number of unique values (values duplicated a lot).\n",
    "2. The categorical data does not have many levels (good).\n",
    "3. No data missing (good)."
   ]
  },
  {
   "cell_type": "code",
   "execution_count": 5,
   "metadata": {
    "colab": {
     "base_uri": "https://localhost:8080/",
     "height": 708
    },
    "executionInfo": {
     "elapsed": 253,
     "status": "ok",
     "timestamp": 1622892593937,
     "user": {
      "displayName": "Huanwang Yang",
      "photoUrl": "",
      "userId": "17645169575771311833"
     },
     "user_tz": 240
    },
    "id": "V44drrOfUEkV",
    "outputId": "bf5d17f5-2e8b-405a-d74e-6d9cfcbc7113"
   },
   "outputs": [
    {
     "data": {
      "text/html": [
       "<div>\n",
       "<style scoped>\n",
       "    .dataframe tbody tr th:only-of-type {\n",
       "        vertical-align: middle;\n",
       "    }\n",
       "\n",
       "    .dataframe tbody tr th {\n",
       "        vertical-align: top;\n",
       "    }\n",
       "\n",
       "    .dataframe thead th {\n",
       "        text-align: right;\n",
       "    }\n",
       "</style>\n",
       "<table border=\"1\" class=\"dataframe\">\n",
       "  <thead>\n",
       "    <tr style=\"text-align: right;\">\n",
       "      <th></th>\n",
       "      <th>#_Total</th>\n",
       "      <th>#_Missing</th>\n",
       "      <th>%_Missing</th>\n",
       "      <th>Unique_Value</th>\n",
       "      <th>#_Unique_Value</th>\n",
       "      <th>df_Type</th>\n",
       "    </tr>\n",
       "    <tr>\n",
       "      <th>Variable</th>\n",
       "      <th></th>\n",
       "      <th></th>\n",
       "      <th></th>\n",
       "      <th></th>\n",
       "      <th></th>\n",
       "      <th></th>\n",
       "    </tr>\n",
       "  </thead>\n",
       "  <tbody>\n",
       "    <tr>\n",
       "      <th>age</th>\n",
       "      <td>41188</td>\n",
       "      <td>0</td>\n",
       "      <td>0.00</td>\n",
       "      <td>[56, 57, 37, 40, 45, 59, 41, 24, 25, 29, 35, 5...</td>\n",
       "      <td>78</td>\n",
       "      <td>int64</td>\n",
       "    </tr>\n",
       "    <tr>\n",
       "      <th>campaign</th>\n",
       "      <td>41188</td>\n",
       "      <td>0</td>\n",
       "      <td>0.00</td>\n",
       "      <td>[1, 2, 3, 4, 5, 6, 7, 8, 9, 10, 11, 12, 13, 19...</td>\n",
       "      <td>42</td>\n",
       "      <td>int64</td>\n",
       "    </tr>\n",
       "    <tr>\n",
       "      <th>nr.employed</th>\n",
       "      <td>41188</td>\n",
       "      <td>0</td>\n",
       "      <td>0.00</td>\n",
       "      <td>[5191.0, 5228.1, 5195.8, 5176.3, 5099.1, 5076....</td>\n",
       "      <td>11</td>\n",
       "      <td>float64</td>\n",
       "    </tr>\n",
       "    <tr>\n",
       "      <th>euribor3m</th>\n",
       "      <td>41188</td>\n",
       "      <td>0</td>\n",
       "      <td>0.00</td>\n",
       "      <td>[4.857, 4.856, 4.855, 4.859, 4.86, 4.858000000...</td>\n",
       "      <td>316</td>\n",
       "      <td>float64</td>\n",
       "    </tr>\n",
       "    <tr>\n",
       "      <th>cons.conf.idx</th>\n",
       "      <td>41188</td>\n",
       "      <td>0</td>\n",
       "      <td>0.00</td>\n",
       "      <td>[-36.4, -41.8, -42.7, -36.1, -40.4, -42.0, -45...</td>\n",
       "      <td>26</td>\n",
       "      <td>float64</td>\n",
       "    </tr>\n",
       "    <tr>\n",
       "      <th>cons.price.idx</th>\n",
       "      <td>41188</td>\n",
       "      <td>0</td>\n",
       "      <td>0.00</td>\n",
       "      <td>[93.994, 94.465, 93.91799999999999, 93.444, 93...</td>\n",
       "      <td>26</td>\n",
       "      <td>float64</td>\n",
       "    </tr>\n",
       "    <tr>\n",
       "      <th>emp.var.rate</th>\n",
       "      <td>41188</td>\n",
       "      <td>0</td>\n",
       "      <td>0.00</td>\n",
       "      <td>[1.1, 1.4, -0.1, -0.2, -1.8, -2.9, -3.4, -3.0,...</td>\n",
       "      <td>10</td>\n",
       "      <td>float64</td>\n",
       "    </tr>\n",
       "    <tr>\n",
       "      <th>poutcome</th>\n",
       "      <td>41188</td>\n",
       "      <td>0</td>\n",
       "      <td>0.00</td>\n",
       "      <td>[nonexistent, failure, success]</td>\n",
       "      <td>3</td>\n",
       "      <td>object</td>\n",
       "    </tr>\n",
       "    <tr>\n",
       "      <th>previous</th>\n",
       "      <td>41188</td>\n",
       "      <td>0</td>\n",
       "      <td>0.00</td>\n",
       "      <td>[0, 1, 2, 3, 4, 5, 6, 7]</td>\n",
       "      <td>8</td>\n",
       "      <td>int64</td>\n",
       "    </tr>\n",
       "    <tr>\n",
       "      <th>pdays</th>\n",
       "      <td>41188</td>\n",
       "      <td>0</td>\n",
       "      <td>0.00</td>\n",
       "      <td>[999, 6, 4, 3, 5, 1, 0, 10, 7, 8, 9, 11, 2, 12...</td>\n",
       "      <td>27</td>\n",
       "      <td>int64</td>\n",
       "    </tr>\n",
       "    <tr>\n",
       "      <th>duration</th>\n",
       "      <td>41188</td>\n",
       "      <td>0</td>\n",
       "      <td>0.00</td>\n",
       "      <td>[261, 149, 226, 151, 307, 198, 139, 217, 380, ...</td>\n",
       "      <td>1544</td>\n",
       "      <td>int64</td>\n",
       "    </tr>\n",
       "    <tr>\n",
       "      <th>job</th>\n",
       "      <td>41188</td>\n",
       "      <td>0</td>\n",
       "      <td>0.00</td>\n",
       "      <td>[housemaid, services, admin., blue-collar, tec...</td>\n",
       "      <td>12</td>\n",
       "      <td>object</td>\n",
       "    </tr>\n",
       "    <tr>\n",
       "      <th>day_of_week</th>\n",
       "      <td>41188</td>\n",
       "      <td>0</td>\n",
       "      <td>0.00</td>\n",
       "      <td>[mon, tue, wed, thu, fri]</td>\n",
       "      <td>5</td>\n",
       "      <td>object</td>\n",
       "    </tr>\n",
       "    <tr>\n",
       "      <th>month</th>\n",
       "      <td>41188</td>\n",
       "      <td>0</td>\n",
       "      <td>0.00</td>\n",
       "      <td>[may, jun, jul, aug, oct, nov, dec, mar, apr, ...</td>\n",
       "      <td>10</td>\n",
       "      <td>object</td>\n",
       "    </tr>\n",
       "    <tr>\n",
       "      <th>contact</th>\n",
       "      <td>41188</td>\n",
       "      <td>0</td>\n",
       "      <td>0.00</td>\n",
       "      <td>[telephone, cellular]</td>\n",
       "      <td>2</td>\n",
       "      <td>object</td>\n",
       "    </tr>\n",
       "    <tr>\n",
       "      <th>loan</th>\n",
       "      <td>41188</td>\n",
       "      <td>0</td>\n",
       "      <td>0.00</td>\n",
       "      <td>[no, yes, unknown]</td>\n",
       "      <td>3</td>\n",
       "      <td>object</td>\n",
       "    </tr>\n",
       "    <tr>\n",
       "      <th>housing</th>\n",
       "      <td>41188</td>\n",
       "      <td>0</td>\n",
       "      <td>0.00</td>\n",
       "      <td>[no, yes, unknown]</td>\n",
       "      <td>3</td>\n",
       "      <td>object</td>\n",
       "    </tr>\n",
       "    <tr>\n",
       "      <th>default</th>\n",
       "      <td>41188</td>\n",
       "      <td>0</td>\n",
       "      <td>0.00</td>\n",
       "      <td>[no, unknown, yes]</td>\n",
       "      <td>3</td>\n",
       "      <td>object</td>\n",
       "    </tr>\n",
       "    <tr>\n",
       "      <th>education</th>\n",
       "      <td>41188</td>\n",
       "      <td>0</td>\n",
       "      <td>0.00</td>\n",
       "      <td>[basic.4y, high.school, basic.6y, basic.9y, pr...</td>\n",
       "      <td>8</td>\n",
       "      <td>object</td>\n",
       "    </tr>\n",
       "    <tr>\n",
       "      <th>marital</th>\n",
       "      <td>41188</td>\n",
       "      <td>0</td>\n",
       "      <td>0.00</td>\n",
       "      <td>[married, single, divorced, unknown]</td>\n",
       "      <td>4</td>\n",
       "      <td>object</td>\n",
       "    </tr>\n",
       "    <tr>\n",
       "      <th>y</th>\n",
       "      <td>41188</td>\n",
       "      <td>0</td>\n",
       "      <td>0.00</td>\n",
       "      <td>[no, yes]</td>\n",
       "      <td>2</td>\n",
       "      <td>object</td>\n",
       "    </tr>\n",
       "  </tbody>\n",
       "</table>\n",
       "</div>"
      ],
      "text/plain": [
       "                #_Total  #_Missing  %_Missing  \\\n",
       "Variable                                        \n",
       "age               41188          0       0.00   \n",
       "campaign          41188          0       0.00   \n",
       "nr.employed       41188          0       0.00   \n",
       "euribor3m         41188          0       0.00   \n",
       "cons.conf.idx     41188          0       0.00   \n",
       "cons.price.idx    41188          0       0.00   \n",
       "emp.var.rate      41188          0       0.00   \n",
       "poutcome          41188          0       0.00   \n",
       "previous          41188          0       0.00   \n",
       "pdays             41188          0       0.00   \n",
       "duration          41188          0       0.00   \n",
       "job               41188          0       0.00   \n",
       "day_of_week       41188          0       0.00   \n",
       "month             41188          0       0.00   \n",
       "contact           41188          0       0.00   \n",
       "loan              41188          0       0.00   \n",
       "housing           41188          0       0.00   \n",
       "default           41188          0       0.00   \n",
       "education         41188          0       0.00   \n",
       "marital           41188          0       0.00   \n",
       "y                 41188          0       0.00   \n",
       "\n",
       "                                                     Unique_Value  \\\n",
       "Variable                                                            \n",
       "age             [56, 57, 37, 40, 45, 59, 41, 24, 25, 29, 35, 5...   \n",
       "campaign        [1, 2, 3, 4, 5, 6, 7, 8, 9, 10, 11, 12, 13, 19...   \n",
       "nr.employed     [5191.0, 5228.1, 5195.8, 5176.3, 5099.1, 5076....   \n",
       "euribor3m       [4.857, 4.856, 4.855, 4.859, 4.86, 4.858000000...   \n",
       "cons.conf.idx   [-36.4, -41.8, -42.7, -36.1, -40.4, -42.0, -45...   \n",
       "cons.price.idx  [93.994, 94.465, 93.91799999999999, 93.444, 93...   \n",
       "emp.var.rate    [1.1, 1.4, -0.1, -0.2, -1.8, -2.9, -3.4, -3.0,...   \n",
       "poutcome                          [nonexistent, failure, success]   \n",
       "previous                                 [0, 1, 2, 3, 4, 5, 6, 7]   \n",
       "pdays           [999, 6, 4, 3, 5, 1, 0, 10, 7, 8, 9, 11, 2, 12...   \n",
       "duration        [261, 149, 226, 151, 307, 198, 139, 217, 380, ...   \n",
       "job             [housemaid, services, admin., blue-collar, tec...   \n",
       "day_of_week                             [mon, tue, wed, thu, fri]   \n",
       "month           [may, jun, jul, aug, oct, nov, dec, mar, apr, ...   \n",
       "contact                                     [telephone, cellular]   \n",
       "loan                                           [no, yes, unknown]   \n",
       "housing                                        [no, yes, unknown]   \n",
       "default                                        [no, unknown, yes]   \n",
       "education       [basic.4y, high.school, basic.6y, basic.9y, pr...   \n",
       "marital                      [married, single, divorced, unknown]   \n",
       "y                                                       [no, yes]   \n",
       "\n",
       "                #_Unique_Value  df_Type  \n",
       "Variable                                 \n",
       "age                         78    int64  \n",
       "campaign                    42    int64  \n",
       "nr.employed                 11  float64  \n",
       "euribor3m                  316  float64  \n",
       "cons.conf.idx               26  float64  \n",
       "cons.price.idx              26  float64  \n",
       "emp.var.rate                10  float64  \n",
       "poutcome                     3   object  \n",
       "previous                     8    int64  \n",
       "pdays                       27    int64  \n",
       "duration                  1544    int64  \n",
       "job                         12   object  \n",
       "day_of_week                  5   object  \n",
       "month                       10   object  \n",
       "contact                      2   object  \n",
       "loan                         3   object  \n",
       "housing                      3   object  \n",
       "default                      3   object  \n",
       "education                    8   object  \n",
       "marital                      4   object  \n",
       "y                            2   object  "
      ]
     },
     "execution_count": 5,
     "metadata": {},
     "output_type": "execute_result"
    }
   ],
   "source": [
    "ut.df_info(df)"
   ]
  },
  {
   "cell_type": "code",
   "execution_count": null,
   "metadata": {
    "id": "KGSTwiW28Hja"
   },
   "outputs": [],
   "source": [
    "#what does it look like at the head portion?\n",
    "#df.head().T"
   ]
  },
  {
   "cell_type": "code",
   "execution_count": 6,
   "metadata": {
    "colab": {
     "base_uri": "https://localhost:8080/"
    },
    "executionInfo": {
     "elapsed": 936,
     "status": "ok",
     "timestamp": 1622892662390,
     "user": {
      "displayName": "Huanwang Yang",
      "photoUrl": "",
      "userId": "17645169575771311833"
     },
     "user_tz": 240
    },
    "id": "U9VHa0lRBtEz",
    "outputId": "bef0689e-4b2f-4557-9886-205da6fd148b"
   },
   "outputs": [
    {
     "name": "stdout",
     "output_type": "stream",
     "text": [
      "The unique dtype in DF= {dtype('O'), dtype('float64'), dtype('int64')}\n",
      "\n",
      "shape of df_num= (41188, 10)\n",
      "shape of df_obj= (41188, 11)\n",
      "shape of df_cat= (41188, 0)\n",
      "shape of df_time= (41188, 0)\n",
      "\n",
      "Number of columns with missing values= 0\n",
      "\n",
      "\n",
      "The outliers 3*IQR (InterQuartile Range)\n",
      "   col_name  fence_low  fence_high  min_val  max_val  num_outlier\n",
      "4  previous       0.00        0.00        0        7         5625\n",
      "3     pdays     999.00      999.00        0      999         1515\n",
      "2  campaign      -5.00        9.00        1       56         1094\n",
      "1  duration    -549.00      970.00        0     4918         1043\n",
      "0       age     -13.00       92.00       17       98            4 \n",
      "\n",
      "The outliers 3*std (standard deviation)\n",
      "   col_name  fence_low  fence_high  min_val  max_val  num_outlier\n",
      "3     pdays     401.74     1523.21        0      999         1515\n",
      "4  previous      -1.31        1.66        0        7         1064\n",
      "2  campaign      -5.74       10.88        1       56          869\n",
      "1  duration    -519.55     1036.12        0     4918          861\n",
      "0       age       8.76       71.29       17       98          369\n",
      "\n",
      "features with correlation > threshold= ['euribor3m', 'nr.employed']\n",
      "The corrlation (threshold>0.9) table: \n",
      "               euribor3m  nr.employed\n",
      "emp.var.rate       0.97         0.91\n",
      "euribor3m          1.00         0.95\n",
      "nr.employed        0.95         1.00\n",
      "\n",
      "Columns with constant variance= []\n",
      "Columns of variance < 0.001 : []\n",
      "\n",
      " Number of duplicated rows=12\n"
     ]
    }
   ],
   "source": [
    "#check df in details\n",
    "ut.df_check(df)"
   ]
  },
  {
   "cell_type": "code",
   "execution_count": 7,
   "metadata": {
    "colab": {
     "base_uri": "https://localhost:8080/"
    },
    "executionInfo": {
     "elapsed": 117,
     "status": "ok",
     "timestamp": 1622892760936,
     "user": {
      "displayName": "Huanwang Yang",
      "photoUrl": "",
      "userId": "17645169575771311833"
     },
     "user_tz": 240
    },
    "id": "11UmaJPs8Yqf",
    "outputId": "f4daa1af-c7ac-4c24-c502-60bc83f947d9"
   },
   "outputs": [
    {
     "data": {
      "text/plain": [
       "(41176, 21)"
      ]
     },
     "execution_count": 7,
     "metadata": {},
     "output_type": "execute_result"
    }
   ],
   "source": [
    "#remove the duplicated rows\n",
    "df=df[~df.duplicated()]\n",
    "df.shape"
   ]
  },
  {
   "cell_type": "markdown",
   "metadata": {
    "id": "eFwY13bs8wkx"
   },
   "source": [
    "<b> Check data balance of the target"
   ]
  },
  {
   "cell_type": "code",
   "execution_count": 8,
   "metadata": {
    "colab": {
     "base_uri": "https://localhost:8080/",
     "height": 285
    },
    "executionInfo": {
     "elapsed": 448,
     "status": "ok",
     "timestamp": 1622892924104,
     "user": {
      "displayName": "Huanwang Yang",
      "photoUrl": "",
      "userId": "17645169575771311833"
     },
     "user_tz": 240
    },
    "id": "XqrWNbqm9DQA",
    "outputId": "1c8b04c2-af97-4cd1-847f-af9a2c6d9141"
   },
   "outputs": [
    {
     "data": {
      "image/png": "[encoded data removed]",
      "text/plain": [
       "<Figure size 576x288 with 2 Axes>"
      ]
     },
     "metadata": {
      "needs_background": "light"
     },
     "output_type": "display_data"
    }
   ],
   "source": [
    "#show target (no, yes) population\n",
    "fig, ax =plt.subplots(nrows=1,ncols=2, figsize=(8,4))\n",
    "labels=['no','yes']\n",
    "sns.countplot(x=df.y, data=df, palette=\"pastel\",ax=ax[0], edgecolor=\".3\")\n",
    "df.y.value_counts().plot.pie(autopct=\"%1.2f%%\", ax=ax[1], \n",
    "                             colors=['#66a3ff','#facc99'], \n",
    "                             labels=labels, explode = (0, 0.05), startangle=120,\n",
    "                             textprops={'fontsize': 12, 'color':'#0a0a00'})\n",
    "plt.show()"
   ]
  },
  {
   "cell_type": "markdown",
   "metadata": {
    "id": "vXaDbyUy9PDq"
   },
   "source": [
    "The target is not balanced. The target with no is about 8 times more than the target with yes. It is necessary to balance the data during modeling. This is done either by changing the class weight in the algorithms or sampling the data to make it balance. \n"
   ]
  },
  {
   "cell_type": "code",
   "execution_count": 10,
   "metadata": {
    "colab": {
     "base_uri": "https://localhost:8080/",
     "height": 1000
    },
    "executionInfo": {
     "elapsed": 116,
     "status": "ok",
     "timestamp": 1622725126906,
     "user": {
      "displayName": "Huanwang Yang",
      "photoUrl": "",
      "userId": "17645169575771311833"
     },
     "user_tz": 240
    },
    "id": "-pVMbS8Zu0Ie",
    "outputId": "1c10a8bd-eaa1-48e3-ce17-89977ff6e456"
   },
   "outputs": [
    {
     "data": {
      "text/html": [
       "<div>\n",
       "<style scoped>\n",
       "    .dataframe tbody tr th:only-of-type {\n",
       "        vertical-align: middle;\n",
       "    }\n",
       "\n",
       "    .dataframe tbody tr th {\n",
       "        vertical-align: top;\n",
       "    }\n",
       "\n",
       "    .dataframe thead th {\n",
       "        text-align: right;\n",
       "    }\n",
       "</style>\n",
       "<table border=\"1\" class=\"dataframe\">\n",
       "  <thead>\n",
       "    <tr style=\"text-align: right;\">\n",
       "      <th></th>\n",
       "      <th>y</th>\n",
       "      <th>no</th>\n",
       "      <th>yes</th>\n",
       "    </tr>\n",
       "  </thead>\n",
       "  <tbody>\n",
       "    <tr>\n",
       "      <th rowspan=\"4\" valign=\"top\">age</th>\n",
       "      <th>mean</th>\n",
       "      <td>39.91</td>\n",
       "      <td>40.91</td>\n",
       "    </tr>\n",
       "    <tr>\n",
       "      <th>std</th>\n",
       "      <td>9.90</td>\n",
       "      <td>13.84</td>\n",
       "    </tr>\n",
       "    <tr>\n",
       "      <th>min</th>\n",
       "      <td>17.00</td>\n",
       "      <td>17.00</td>\n",
       "    </tr>\n",
       "    <tr>\n",
       "      <th>max</th>\n",
       "      <td>95.00</td>\n",
       "      <td>98.00</td>\n",
       "    </tr>\n",
       "    <tr>\n",
       "      <th rowspan=\"4\" valign=\"top\">duration</th>\n",
       "      <th>mean</th>\n",
       "      <td>220.87</td>\n",
       "      <td>553.26</td>\n",
       "    </tr>\n",
       "    <tr>\n",
       "      <th>std</th>\n",
       "      <td>207.12</td>\n",
       "      <td>401.19</td>\n",
       "    </tr>\n",
       "    <tr>\n",
       "      <th>min</th>\n",
       "      <td>0.00</td>\n",
       "      <td>37.00</td>\n",
       "    </tr>\n",
       "    <tr>\n",
       "      <th>max</th>\n",
       "      <td>4918.00</td>\n",
       "      <td>4199.00</td>\n",
       "    </tr>\n",
       "    <tr>\n",
       "      <th rowspan=\"4\" valign=\"top\">campaign</th>\n",
       "      <th>mean</th>\n",
       "      <td>2.63</td>\n",
       "      <td>2.05</td>\n",
       "    </tr>\n",
       "    <tr>\n",
       "      <th>std</th>\n",
       "      <td>2.87</td>\n",
       "      <td>1.67</td>\n",
       "    </tr>\n",
       "    <tr>\n",
       "      <th>min</th>\n",
       "      <td>1.00</td>\n",
       "      <td>1.00</td>\n",
       "    </tr>\n",
       "    <tr>\n",
       "      <th>max</th>\n",
       "      <td>56.00</td>\n",
       "      <td>23.00</td>\n",
       "    </tr>\n",
       "    <tr>\n",
       "      <th rowspan=\"4\" valign=\"top\">pdays</th>\n",
       "      <th>mean</th>\n",
       "      <td>984.11</td>\n",
       "      <td>791.99</td>\n",
       "    </tr>\n",
       "    <tr>\n",
       "      <th>std</th>\n",
       "      <td>120.67</td>\n",
       "      <td>403.44</td>\n",
       "    </tr>\n",
       "    <tr>\n",
       "      <th>min</th>\n",
       "      <td>0.00</td>\n",
       "      <td>0.00</td>\n",
       "    </tr>\n",
       "    <tr>\n",
       "      <th>max</th>\n",
       "      <td>999.00</td>\n",
       "      <td>999.00</td>\n",
       "    </tr>\n",
       "    <tr>\n",
       "      <th rowspan=\"4\" valign=\"top\">previous</th>\n",
       "      <th>mean</th>\n",
       "      <td>0.13</td>\n",
       "      <td>0.49</td>\n",
       "    </tr>\n",
       "    <tr>\n",
       "      <th>std</th>\n",
       "      <td>0.41</td>\n",
       "      <td>0.86</td>\n",
       "    </tr>\n",
       "    <tr>\n",
       "      <th>min</th>\n",
       "      <td>0.00</td>\n",
       "      <td>0.00</td>\n",
       "    </tr>\n",
       "    <tr>\n",
       "      <th>max</th>\n",
       "      <td>7.00</td>\n",
       "      <td>6.00</td>\n",
       "    </tr>\n",
       "    <tr>\n",
       "      <th rowspan=\"4\" valign=\"top\">emp.var.rate</th>\n",
       "      <th>mean</th>\n",
       "      <td>0.25</td>\n",
       "      <td>-1.23</td>\n",
       "    </tr>\n",
       "    <tr>\n",
       "      <th>std</th>\n",
       "      <td>1.48</td>\n",
       "      <td>1.62</td>\n",
       "    </tr>\n",
       "    <tr>\n",
       "      <th>min</th>\n",
       "      <td>-3.40</td>\n",
       "      <td>-3.40</td>\n",
       "    </tr>\n",
       "    <tr>\n",
       "      <th>max</th>\n",
       "      <td>1.40</td>\n",
       "      <td>1.40</td>\n",
       "    </tr>\n",
       "    <tr>\n",
       "      <th rowspan=\"4\" valign=\"top\">cons.price.idx</th>\n",
       "      <th>mean</th>\n",
       "      <td>93.60</td>\n",
       "      <td>93.35</td>\n",
       "    </tr>\n",
       "    <tr>\n",
       "      <th>std</th>\n",
       "      <td>0.56</td>\n",
       "      <td>0.68</td>\n",
       "    </tr>\n",
       "    <tr>\n",
       "      <th>min</th>\n",
       "      <td>92.20</td>\n",
       "      <td>92.20</td>\n",
       "    </tr>\n",
       "    <tr>\n",
       "      <th>max</th>\n",
       "      <td>94.77</td>\n",
       "      <td>94.77</td>\n",
       "    </tr>\n",
       "    <tr>\n",
       "      <th rowspan=\"4\" valign=\"top\">cons.conf.idx</th>\n",
       "      <th>mean</th>\n",
       "      <td>-40.59</td>\n",
       "      <td>-39.79</td>\n",
       "    </tr>\n",
       "    <tr>\n",
       "      <th>std</th>\n",
       "      <td>4.39</td>\n",
       "      <td>6.14</td>\n",
       "    </tr>\n",
       "    <tr>\n",
       "      <th>min</th>\n",
       "      <td>-50.80</td>\n",
       "      <td>-50.80</td>\n",
       "    </tr>\n",
       "    <tr>\n",
       "      <th>max</th>\n",
       "      <td>-26.90</td>\n",
       "      <td>-26.90</td>\n",
       "    </tr>\n",
       "    <tr>\n",
       "      <th rowspan=\"4\" valign=\"top\">euribor3m</th>\n",
       "      <th>mean</th>\n",
       "      <td>3.81</td>\n",
       "      <td>2.12</td>\n",
       "    </tr>\n",
       "    <tr>\n",
       "      <th>std</th>\n",
       "      <td>1.64</td>\n",
       "      <td>1.74</td>\n",
       "    </tr>\n",
       "    <tr>\n",
       "      <th>min</th>\n",
       "      <td>0.63</td>\n",
       "      <td>0.63</td>\n",
       "    </tr>\n",
       "    <tr>\n",
       "      <th>max</th>\n",
       "      <td>5.04</td>\n",
       "      <td>5.04</td>\n",
       "    </tr>\n",
       "    <tr>\n",
       "      <th rowspan=\"4\" valign=\"top\">nr.employed</th>\n",
       "      <th>mean</th>\n",
       "      <td>5176.17</td>\n",
       "      <td>5095.12</td>\n",
       "    </tr>\n",
       "    <tr>\n",
       "      <th>std</th>\n",
       "      <td>64.57</td>\n",
       "      <td>87.58</td>\n",
       "    </tr>\n",
       "    <tr>\n",
       "      <th>min</th>\n",
       "      <td>4963.60</td>\n",
       "      <td>4963.60</td>\n",
       "    </tr>\n",
       "    <tr>\n",
       "      <th>max</th>\n",
       "      <td>5228.10</td>\n",
       "      <td>5228.10</td>\n",
       "    </tr>\n",
       "  </tbody>\n",
       "</table>\n",
       "</div>"
      ],
      "text/plain": [
       "y                        no     yes\n",
       "age            mean   39.91   40.91\n",
       "               std     9.90   13.84\n",
       "               min    17.00   17.00\n",
       "               max    95.00   98.00\n",
       "duration       mean  220.87  553.26\n",
       "               std   207.12  401.19\n",
       "               min     0.00   37.00\n",
       "               max  4918.00 4199.00\n",
       "campaign       mean    2.63    2.05\n",
       "               std     2.87    1.67\n",
       "               min     1.00    1.00\n",
       "               max    56.00   23.00\n",
       "pdays          mean  984.11  791.99\n",
       "               std   120.67  403.44\n",
       "               min     0.00    0.00\n",
       "               max   999.00  999.00\n",
       "previous       mean    0.13    0.49\n",
       "               std     0.41    0.86\n",
       "               min     0.00    0.00\n",
       "               max     7.00    6.00\n",
       "emp.var.rate   mean    0.25   -1.23\n",
       "               std     1.48    1.62\n",
       "               min    -3.40   -3.40\n",
       "               max     1.40    1.40\n",
       "cons.price.idx mean   93.60   93.35\n",
       "               std     0.56    0.68\n",
       "               min    92.20   92.20\n",
       "               max    94.77   94.77\n",
       "cons.conf.idx  mean  -40.59  -39.79\n",
       "               std     4.39    6.14\n",
       "               min   -50.80  -50.80\n",
       "               max   -26.90  -26.90\n",
       "euribor3m      mean    3.81    2.12\n",
       "               std     1.64    1.74\n",
       "               min     0.63    0.63\n",
       "               max     5.04    5.04\n",
       "nr.employed    mean 5176.17 5095.12\n",
       "               std    64.57   87.58\n",
       "               min  4963.60 4963.60\n",
       "               max  5228.10 5228.10"
      ]
     },
     "execution_count": 10,
     "metadata": {},
     "output_type": "execute_result"
    }
   ],
   "source": [
    "#check how the features are separated by the target \n",
    "df.groupby(['y']).agg(['mean', 'std', 'min', 'max']).T"
   ]
  },
  {
   "cell_type": "code",
   "execution_count": 11,
   "metadata": {
    "executionInfo": {
     "elapsed": 109,
     "status": "ok",
     "timestamp": 1622893265113,
     "user": {
      "displayName": "Huanwang Yang",
      "photoUrl": "",
      "userId": "17645169575771311833"
     },
     "user_tz": 240
    },
    "id": "1gNNTBRw-nrV"
   },
   "outputs": [],
   "source": [
    "#replace no/yes by 0/1\n",
    "df['y'].replace(['no', 'yes'], [0, 1], inplace=True)"
   ]
  },
  {
   "cell_type": "code",
   "execution_count": 90,
   "metadata": {
    "colab": {
     "base_uri": "https://localhost:8080/"
    },
    "executionInfo": {
     "elapsed": 112,
     "status": "ok",
     "timestamp": 1622899703792,
     "user": {
      "displayName": "Huanwang Yang",
      "photoUrl": "",
      "userId": "17645169575771311833"
     },
     "user_tz": 240
    },
    "id": "r9tKkAMUiHe3",
    "outputId": "2b511e9d-f1c7-4b53-da07-41ff9fb97884"
   },
   "outputs": [
    {
     "data": {
      "text/plain": [
       "((41176, 11), (41176, 10))"
      ]
     },
     "execution_count": 90,
     "metadata": {},
     "output_type": "execute_result"
    }
   ],
   "source": [
    "#split DF into numerical and categorical for better manipulation\n",
    "df_num=df.select_dtypes(include=['number'])\n",
    "df_cat=df.select_dtypes(exclude=['number'])\n",
    "df_num.shape, df_cat.shape"
   ]
  },
  {
   "cell_type": "markdown",
   "metadata": {
    "id": "HtC3D9p5-zqm"
   },
   "source": [
    "<b>3a. Explore the numerical data</b>"
   ]
  },
  {
   "cell_type": "markdown",
   "metadata": {
    "id": "VhpBT3DrAPbX"
   },
   "source": [
    "**Check the outlies.** Scale them so as to plot all together."
   ]
  },
  {
   "cell_type": "code",
   "execution_count": 54,
   "metadata": {
    "colab": {
     "base_uri": "https://localhost:8080/",
     "height": 326
    },
    "executionInfo": {
     "elapsed": 586,
     "status": "ok",
     "timestamp": 1622899708026,
     "user": {
      "displayName": "Huanwang Yang",
      "photoUrl": "",
      "userId": "17645169575771311833"
     },
     "user_tz": 240
    },
    "id": "ICxKnIcKy9lq",
    "outputId": "43a99575-783a-4fd8-bc99-c514b2f82980"
   },
   "outputs": [
    {
     "data": {
      "image/png": "[encoded data removed]",
      "text/plain": [
       "<Figure size 720x288 with 1 Axes>"
      ]
     },
     "metadata": {
      "needs_background": "light"
     },
     "output_type": "display_data"
    }
   ],
   "source": [
    "# scale_type='Robust', 'MinMax', 'Standard'\n",
    "df0=ut.data_scale(df_num, data_type='df', scale_type='Standard')\n",
    "df0.boxplot(rot=0, fontsize=14, figsize=(10, 4), vert=False )\n",
    "plt.show()"
   ]
  },
  {
   "cell_type": "markdown",
   "metadata": {
    "id": "Mltj0HoOAcpZ"
   },
   "source": [
    "<b>Check histogram </b> (0 for blue,  1 for brown)"
   ]
  },
  {
   "cell_type": "code",
   "execution_count": 55,
   "metadata": {
    "colab": {
     "base_uri": "https://localhost:8080/",
     "height": 1000
    },
    "executionInfo": {
     "elapsed": 4293,
     "status": "ok",
     "timestamp": 1622899717720,
     "user": {
      "displayName": "Huanwang Yang",
      "photoUrl": "",
      "userId": "17645169575771311833"
     },
     "user_tz": 240
    },
    "id": "m6y9Cye00eIC",
    "outputId": "e15df2ec-7181-48f5-b70f-27bc7a352822"
   },
   "outputs": [
    {
     "data": {
      "image/png": "[encoded data removed]",
      "text/plain": [
       "<Figure size 720x1440 with 11 Axes>"
      ]
     },
     "metadata": {
      "needs_background": "light"
     },
     "output_type": "display_data"
    }
   ],
   "source": [
    "col=list(df_num.columns)\n",
    "ut.plot_hist_class(df_num, col, nrow=6, ncol=2,  target='y', figsize=(10,20))"
   ]
  },
  {
   "cell_type": "markdown",
   "metadata": {
    "id": "4hNzktLSBJ6p"
   },
   "source": [
    "<b>Check the density plot </b> to see how well the target is separated for each feature: \n",
    "\n",
    "<br>Observations:\n",
    "1. The 'duration', 'emp.var.rate', 'euribor3m', 'nr.employed'  separated the target well"
   ]
  },
  {
   "cell_type": "code",
   "execution_count": 56,
   "metadata": {
    "colab": {
     "base_uri": "https://localhost:8080/",
     "height": 1000
    },
    "executionInfo": {
     "elapsed": 9366,
     "status": "ok",
     "timestamp": 1622899733671,
     "user": {
      "displayName": "Huanwang Yang",
      "photoUrl": "",
      "userId": "17645169575771311833"
     },
     "user_tz": 240
    },
    "id": "3G0UrU7K0eLj",
    "outputId": "3c313d48-e4df-4bbf-eb96-9c44018b4ed5"
   },
   "outputs": [
    {
     "data": {
      "image/png": "[encoded data removed]",
      "text/plain": [
       "<Figure size 720x1440 with 11 Axes>"
      ]
     },
     "metadata": {
      "needs_background": "light"
     },
     "output_type": "display_data"
    }
   ],
   "source": [
    "col=list(df_num.columns)\n",
    "ut.plot_density_class(df_num, col, nrow=6, ncol=2, figsize=(10,20), target='y')"
   ]
  },
  {
   "cell_type": "code",
   "execution_count": 57,
   "metadata": {
    "colab": {
     "base_uri": "https://localhost:8080/",
     "height": 651
    },
    "executionInfo": {
     "elapsed": 991,
     "status": "ok",
     "timestamp": 1622899734651,
     "user": {
      "displayName": "Huanwang Yang",
      "photoUrl": "",
      "userId": "17645169575771311833"
     },
     "user_tz": 240
    },
    "id": "szdpw2qR6LD1",
    "outputId": "6782d079-ca5f-4dd3-c6f7-8b39ce884301"
   },
   "outputs": [
    {
     "name": "stdout",
     "output_type": "stream",
     "text": [
      "\n",
      "Plot heatmap to show correlations among the numerical features.\n"
     ]
    },
    {
     "data": {
      "image/png": "[encoded data removed]",
      "text/plain": [
       "<Figure size 720x720 with 2 Axes>"
      ]
     },
     "metadata": {
      "needs_background": "light"
     },
     "output_type": "display_data"
    }
   ],
   "source": [
    "#check correlations\n",
    "ut.plot_corr(df_num, figsize=(10,10))"
   ]
  },
  {
   "cell_type": "code",
   "execution_count": 91,
   "metadata": {
    "colab": {
     "base_uri": "https://localhost:8080/"
    },
    "executionInfo": {
     "elapsed": 112,
     "status": "ok",
     "timestamp": 1622899745910,
     "user": {
      "displayName": "Huanwang Yang",
      "photoUrl": "",
      "userId": "17645169575771311833"
     },
     "user_tz": 240
    },
    "id": "aHSo6qcBT9oX",
    "outputId": "04116e55-ae13-48f3-8649-b381a07ce690"
   },
   "outputs": [
    {
     "name": "stdout",
     "output_type": "stream",
     "text": [
      "\n",
      "features with correlation > threshold= ['euribor3m']\n"
     ]
    }
   ],
   "source": [
    "#check if exist heavy correlation\n",
    "#dir(ut)\n",
    "d=ut.find_corr_columns(df_num, threshold=0.95)"
   ]
  },
  {
   "cell_type": "code",
   "execution_count": 92,
   "metadata": {
    "executionInfo": {
     "elapsed": 106,
     "status": "ok",
     "timestamp": 1622899759461,
     "user": {
      "displayName": "Huanwang Yang",
      "photoUrl": "",
      "userId": "17645169575771311833"
     },
     "user_tz": 240
    },
    "id": "elQnDrXST9ej"
   },
   "outputs": [],
   "source": [
    "#remove the heavy correlated feature\n",
    "df_num.drop(['euribor3m'], axis=1, inplace=True)"
   ]
  },
  {
   "cell_type": "markdown",
   "metadata": {
    "id": "uv8MbRH2Vvss"
   },
   "source": [
    "<b>Final manipulation of the numerical data:</b>\n",
    "\n",
    "The feature <font color='red'> duration </font> is removed due to the reason as indicated in the data sets as below: <br>\n",
    "\n",
    "<i>last contact duration, in seconds (numeric). Important note: this attribute highly affects the output target (e.g., if duration=0 then y='no'). Yet, the duration is not known before a call is performed. Also, after the end of the call y is obviously known. Thus, this input should only be included for benchmark purposes and should be discarded if the intention is to have a realistic predictive model. </i>\n"
   ]
  },
  {
   "cell_type": "code",
   "execution_count": 93,
   "metadata": {
    "executionInfo": {
     "elapsed": 103,
     "status": "ok",
     "timestamp": 1622899763149,
     "user": {
      "displayName": "Huanwang Yang",
      "photoUrl": "",
      "userId": "17645169575771311833"
     },
     "user_tz": 240
    },
    "id": "gcNHZdrYWgdg"
   },
   "outputs": [],
   "source": [
    "df_num.drop(['duration'], axis=1, inplace=True)"
   ]
  },
  {
   "cell_type": "markdown",
   "metadata": {
    "id": "TdXR2h88B23E"
   },
   "source": [
    "<b>3b. Explore the categorical data</b>"
   ]
  },
  {
   "cell_type": "code",
   "execution_count": 70,
   "metadata": {
    "executionInfo": {
     "elapsed": 145,
     "status": "ok",
     "timestamp": 1622894697321,
     "user": {
      "displayName": "Huanwang Yang",
      "photoUrl": "",
      "userId": "17645169575771311833"
     },
     "user_tz": 240
    },
    "id": "rtYYiwpMK9JT"
   },
   "outputs": [],
   "source": [
    "#reduce categorical level for education\n",
    "df_cat['education'].replace(['basic.4y','basic.6y','basic.9y'], \n",
    "                           ['basic','basic','basic'], inplace=True)\n",
    "df_cat['education'].replace(['unknown','illiterate'], \n",
    "                           ['other','other'], inplace=True)"
   ]
  },
  {
   "cell_type": "code",
   "execution_count": 94,
   "metadata": {
    "executionInfo": {
     "elapsed": 121,
     "status": "ok",
     "timestamp": 1622894795724,
     "user": {
      "displayName": "Huanwang Yang",
      "photoUrl": "",
      "userId": "17645169575771311833"
     },
     "user_tz": 240
    },
    "id": "eKndHYfOC4mN"
   },
   "outputs": [],
   "source": [
    "def check_target(df, col='', target=''):\n",
    "  '''check how the target is distributed in each level\n",
    "  '''\n",
    "  d1=df[df[target]==0][col].value_counts().to_frame()\n",
    "  d2=df[df[target]==1][col].value_counts().to_frame()\n",
    "\n",
    "#pd.merge(d1, d2, left_index=True, right_index=True)\n",
    "  dd=pd.concat([d1,d2], axis=1)\n",
    "#  dd.columns=[col+'_no', col+'_yes']\n",
    "  dd.columns=['no', 'yes']\n",
    "  dd['ratio_yes/no'] = dd['yes']/dd['no']\n",
    "\n",
    "  return dd"
   ]
  },
  {
   "cell_type": "markdown",
   "metadata": {
    "id": "Be8PumHUE7JJ"
   },
   "source": [
    "<b>Check how categorical data seperated the target</b>. Observations below:\n",
    "1. for Job: Student and retired people are the highest ratios and blue-collar is the lowest.\n",
    "2. for contact: There is a big difference betwee telephone and cellular.\n",
    "3. fop month: Mar, Sep, Oct, Dec have the very high rate, although there are not many counts.\n",
    "4. for poutcome: The rate is significantly high when the last campain was success."
   ]
  },
  {
   "cell_type": "code",
   "execution_count": 96,
   "metadata": {
    "colab": {
     "base_uri": "https://localhost:8080/"
    },
    "executionInfo": {
     "elapsed": 289,
     "status": "ok",
     "timestamp": 1622894819192,
     "user": {
      "displayName": "Huanwang Yang",
      "photoUrl": "",
      "userId": "17645169575771311833"
     },
     "user_tz": 240
    },
    "id": "JvB50-TAGXjP",
    "outputId": "4d680526-6a87-4f07-e652-61cdb76227be"
   },
   "outputs": [
    {
     "name": "stdout",
     "output_type": "stream",
     "text": [
      "\n",
      "-------checking feature-------- job\n",
      "                 no   yes  ratio_yes/no\n",
      "admin.         9068  1351          0.15\n",
      "blue-collar    8615   638          0.07\n",
      "technician     6009   730          0.12\n",
      "services       3644   323          0.09\n",
      "management     2596   328          0.13\n",
      "entrepreneur   1332   124          0.09\n",
      "retired        1284   434          0.34\n",
      "self-employed  1272   149          0.12\n",
      "housemaid       954   106          0.11\n",
      "unemployed      870   144          0.17\n",
      "student         600   275          0.46\n",
      "unknown         293    37          0.13\n",
      "\n",
      "-------checking feature-------- marital\n",
      "             no   yes  ratio_yes/no\n",
      "married   22390  2531          0.11\n",
      "single     9944  1620          0.16\n",
      "divorced   4135   476          0.12\n",
      "unknown      68    12          0.18\n",
      "\n",
      "-------checking feature-------- education\n",
      "                        no   yes  ratio_yes/no\n",
      "university.degree    10495  1669          0.16\n",
      "high.school           8481  1031          0.12\n",
      "basic.9y              5572   473          0.08\n",
      "professional.course   4645   595          0.13\n",
      "basic.4y              3748   428          0.11\n",
      "basic.6y              2103   188          0.09\n",
      "unknown               1479   251          0.17\n",
      "illiterate              14     4          0.29\n",
      "\n",
      "-------checking feature-------- default\n",
      "            no     yes  ratio_yes/no\n",
      "no       28381 4196.00          0.15\n",
      "unknown   8153  443.00          0.05\n",
      "yes          3     nan           nan\n",
      "\n",
      "-------checking feature-------- housing\n",
      "            no   yes  ratio_yes/no\n",
      "yes      19064  2507          0.13\n",
      "no       16590  2025          0.12\n",
      "unknown    883   107          0.12\n",
      "\n",
      "-------checking feature-------- loan\n",
      "            no   yes  ratio_yes/no\n",
      "no       30089  3849          0.13\n",
      "yes       5565   683          0.12\n",
      "unknown    883   107          0.12\n",
      "\n",
      "-------checking feature-------- contact\n",
      "              no   yes  ratio_yes/no\n",
      "cellular   22283  3852          0.17\n",
      "telephone  14254   787          0.06\n",
      "\n",
      "-------checking feature-------- month\n",
      "        no  yes  ratio_yes/no\n",
      "may  12881  886          0.07\n",
      "jul   6521  648          0.10\n",
      "aug   5521  655          0.12\n",
      "jun   4759  559          0.12\n",
      "nov   3684  416          0.11\n",
      "apr   2092  539          0.26\n",
      "oct    402  315          0.78\n",
      "sep    314  256          0.82\n",
      "mar    270  276          1.02\n",
      "dec     93   89          0.96\n",
      "\n",
      "-------checking feature-------- day_of_week\n",
      "       no   yes  ratio_yes/no\n",
      "mon  7665   847          0.11\n",
      "thu  7574  1044          0.14\n",
      "wed  7185   949          0.13\n",
      "tue  7133   953          0.13\n",
      "fri  6980   846          0.12\n",
      "\n",
      "-------checking feature-------- poutcome\n",
      "                no   yes  ratio_yes/no\n",
      "nonexistent  32411  3140          0.10\n",
      "failure       3647   605          0.17\n",
      "success        479   894          1.87\n",
      "\n",
      "-------checking feature-------- y\n",
      "        no     yes  ratio_yes/no\n",
      "0 36537.00     nan           nan\n",
      "1      nan 4639.00           nan\n"
     ]
    }
   ],
   "source": [
    "df_cat['y']=df_num['y']\n",
    "for col in list(df_cat.columns):\n",
    "  print ('\\n-------checking feature--------',col)\n",
    "  print(check_target(df_cat, col=col, target='y'))\n"
   ]
  },
  {
   "cell_type": "code",
   "execution_count": 97,
   "metadata": {},
   "outputs": [],
   "source": [
    "#remove columns y\n",
    "df_cat.drop(['y'], axis=1, inplace=True)"
   ]
  },
  {
   "cell_type": "code",
   "execution_count": 98,
   "metadata": {
    "colab": {
     "base_uri": "https://localhost:8080/"
    },
    "executionInfo": {
     "elapsed": 119,
     "status": "ok",
     "timestamp": 1622904645774,
     "user": {
      "displayName": "Huanwang Yang",
      "photoUrl": "",
      "userId": "17645169575771311833"
     },
     "user_tz": 240
    },
    "id": "0bjU0fDjm5OC",
    "outputId": "87522e8f-efd3-425d-b3f3-12b410176a70"
   },
   "outputs": [
    {
     "name": "stdout",
     "output_type": "stream",
     "text": [
      "Dimensions after one-hot encode (41176, 43)\n"
     ]
    }
   ],
   "source": [
    "#add dummy variables (regression need number), drop the first one (duplicated)\n",
    "df_cat=pd.get_dummies(df_cat, drop_first=True)\n",
    "print(f'Dimensions after one-hot encode {df_cat.shape}')"
   ]
  },
  {
   "cell_type": "code",
   "execution_count": null,
   "metadata": {
    "id": "BgbXBoCTB6dD"
   },
   "outputs": [],
   "source": [
    "#plot histogram for categorical data\n",
    "#for f in col: ut.plot_hist_class_one(df,  target='y', feature=[f], figsize=(8,4))"
   ]
  },
  {
   "cell_type": "code",
   "execution_count": null,
   "metadata": {
    "id": "xXt0euPGP29I"
   },
   "outputs": [],
   "source": [
    "# drop/assign the row if the ratio is too low.\n",
    "#df_test=ut.assign_other(df_num, col=['age'],val=0.0001, action='drop')"
   ]
  },
  {
   "cell_type": "markdown",
   "metadata": {
    "id": "_PX2mhUiN_k0"
   },
   "source": [
    "# **4 Binary classification**\n",
    "\n",
    "The feature <font color='red'> duration </font> is removed throughout all the modeling: <br>\n",
    "\n",
    "\n",
    "\n",
    "**4a.   Classification using the numerical data only!**\n"
   ]
  },
  {
   "cell_type": "code",
   "execution_count": 113,
   "metadata": {
    "colab": {
     "base_uri": "https://localhost:8080/"
    },
    "executionInfo": {
     "elapsed": 269,
     "status": "ok",
     "timestamp": 1622900887723,
     "user": {
      "displayName": "Huanwang Yang",
      "photoUrl": "",
      "userId": "17645169575771311833"
     },
     "user_tz": 240
    },
    "id": "4iu886w7RTAk",
    "outputId": "8cba876c-ada6-4ded-93bd-376870f11626"
   },
   "outputs": [
    {
     "name": "stdout",
     "output_type": "stream",
     "text": [
      "shape of X=(41176, 8), X_train=(28823, 8),  X_test=(12353, 8)\n"
     ]
    }
   ],
   "source": [
    "#drop the duration for business reason\n",
    "df_final=df_num.copy()\n",
    "X_train, X_test, y_train, y_test = ut.split_data(df_final, size=0.30, \n",
    "                                                 target='y', stratify='yes')"
   ]
  },
  {
   "cell_type": "code",
   "execution_count": 114,
   "metadata": {
    "colab": {
     "base_uri": "https://localhost:8080/"
    },
    "executionInfo": {
     "elapsed": 5647,
     "status": "ok",
     "timestamp": 1622900901117,
     "user": {
      "displayName": "Huanwang Yang",
      "photoUrl": "",
      "userId": "17645169575771311833"
     },
     "user_tz": 240
    },
    "id": "rkvhRs2W1vT6",
    "outputId": "a427b8f7-ba61-493d-b01f-4a83518230c5"
   },
   "outputs": [
    {
     "name": "stdout",
     "output_type": "stream",
     "text": [
      "Feature selection:  using ftype= model_XGB nfeature= 8\n",
      "[11:37:03] WARNING: /opt/concourse/worker/volumes/live/7a2b9f41-3287-451b-6691-43e9a6c0910f/volume/xgboost-split_1619728204606/work/src/learner.cc:1061: Starting in XGBoost 1.3.0, the default evaluation metric used with the objective 'binary:logistic' was changed from 'error' to 'logloss'. Explicitly set eval_metric if you'd like to restore the old behavior.\n",
      "The shape of X_train =  (28823, 8)\n",
      "The shape of X_train_select =  (28823, 8)\n",
      "[11:37:04] WARNING: /opt/concourse/worker/volumes/live/7a2b9f41-3287-451b-6691-43e9a6c0910f/volume/xgboost-split_1619728204606/work/src/learner.cc:1061: Starting in XGBoost 1.3.0, the default evaluation metric used with the objective 'binary:logistic' was changed from 'error' to 'logloss'. Explicitly set eval_metric if you'd like to restore the old behavior.\n",
      "          feature  importance\n",
      "7     nr.employed        0.79\n",
      "4    emp.var.rate        0.05\n",
      "2           pdays        0.05\n",
      "6   cons.conf.idx        0.04\n",
      "5  cons.price.idx        0.02\n",
      "3        previous        0.02\n",
      "0             age        0.02\n",
      "1        campaign        0.01\n"
     ]
    }
   ],
   "source": [
    "#select the best features (RFE is very slow)\n",
    "#X_train, X_test=ut.feature_selection(X_train, X_test, y_train, y_test, 'RFE', 8)\n",
    "#X_train_s, X_test_s=ut.feature_selection(X_train, X_test, y_train, y_test, 'model_RF', 8)\n",
    "X_train_s, X_test_s=ut.feature_selection(X_train, X_test, y_train, y_test, 'model_XGB', 8)\n"
   ]
  },
  {
   "cell_type": "code",
   "execution_count": 115,
   "metadata": {
    "colab": {
     "base_uri": "https://localhost:8080/"
    },
    "executionInfo": {
     "elapsed": 417287,
     "status": "ok",
     "timestamp": 1622901341442,
     "user": {
      "displayName": "Huanwang Yang",
      "photoUrl": "",
      "userId": "17645169575771311833"
     },
     "user_tz": 240
    },
    "id": "RWKCLmHldozV",
    "outputId": "a3642b91-399a-4947-81f4-12cd1d6adb2a"
   },
   "outputs": [
    {
     "name": "stdout",
     "output_type": "stream",
     "text": [
      "\n",
      "------------------------------------------------------------------\n",
      "\n",
      "Tuning hyperparameters for  RandomForestClassifier\n",
      "input_params= {'criterion': ['gini', 'entropy'], 'max_depth': [6, 4, 2, None], 'n_estimators': [200], 'max_features': ['auto', None]}\n",
      "\n",
      "best_train_score=0.900: best_test_score=0.899 : CPU time= 25.09 s\n",
      "best_params= {'criterion': 'gini', 'max_depth': 4, 'max_features': 'auto', 'n_estimators': 200}\n",
      "model= RandomForestClassifier(max_depth=4, n_estimators=200)\n",
      "\n",
      "------------------------------------------------------------------\n",
      "\n",
      "Tuning hyperparameters for  AdaBoostClassifier\n",
      "input_params= {'n_estimators': [200], 'algorithm': ['SAMME', 'SAMME.R']}\n",
      "\n",
      "best_train_score=0.899: best_test_score=0.899 : CPU time= 3.88 s\n",
      "best_params= {'algorithm': 'SAMME', 'n_estimators': 200}\n",
      "model= AdaBoostClassifier(algorithm='SAMME', n_estimators=200)\n",
      "\n",
      "------------------------------------------------------------------\n",
      "\n",
      "Tuning hyperparameters for  GradientBoostingClassifier\n",
      "input_params= {'n_estimators': [200], 'learning_rate': [1.0], 'loss': ['deviance'], 'max_features': ['auto', None], 'max_depth': [5, 4, 3]}\n",
      "\n",
      "best_train_score=0.894: best_test_score=0.893 : CPU time= 11.26 s\n",
      "best_params= {'learning_rate': 1.0, 'loss': 'deviance', 'max_depth': 3, 'max_features': 'auto', 'n_estimators': 200}\n",
      "model= GradientBoostingClassifier(learning_rate=1.0, max_features='auto',\n",
      "                           n_estimators=200)\n",
      "\n",
      "------------------------------------------------------------------\n",
      "\n",
      "Tuning hyperparameters for  ExtraTreesClassifier\n",
      "input_params= {'criterion': ['gini', 'entropy'], 'max_depth': [6, 4, None], 'n_estimators': [200], 'max_features': ['auto', None]}\n",
      "\n",
      "best_train_score=0.900: best_test_score=0.899 : CPU time= 13.38 s\n",
      "best_params= {'criterion': 'entropy', 'max_depth': 6, 'max_features': None, 'n_estimators': 200}\n",
      "model= ExtraTreesClassifier(criterion='entropy', max_depth=6, max_features=None,\n",
      "                     n_estimators=200)\n",
      "\n",
      "------------------------------------------------------------------\n",
      "\n",
      "Tuning hyperparameters for  XGBClassifier\n",
      "input_params= {'max_depth': [2, 5, 7, 9], 'subsample': [1], 'n_estimators': [200], 'colsample_bytree': [1]}\n",
      "[11:38:16] WARNING: /opt/concourse/worker/volumes/live/7a2b9f41-3287-451b-6691-43e9a6c0910f/volume/xgboost-split_1619728204606/work/src/learner.cc:1061: Starting in XGBoost 1.3.0, the default evaluation metric used with the objective 'binary:logistic' was changed from 'error' to 'logloss'. Explicitly set eval_metric if you'd like to restore the old behavior.\n",
      "\n",
      "best_train_score=0.899: best_test_score=0.898 : CPU time= 13.21 s\n",
      "best_params= {'colsample_bytree': 1, 'max_depth': 2, 'n_estimators': 200, 'subsample': 1}\n",
      "model= XGBClassifier(base_score=0.5, booster='gbtree', colsample_bylevel=1,\n",
      "              colsample_bynode=1, colsample_bytree=1, gamma=0, gpu_id=-1,\n",
      "              importance_type='gain', interaction_constraints='',\n",
      "              learning_rate=0.300000012, max_delta_step=0, max_depth=2,\n",
      "              min_child_weight=1, missing=nan, monotone_constraints='()',\n",
      "              n_estimators=200, n_jobs=12, num_parallel_tree=1, random_state=0,\n",
      "              reg_alpha=0, reg_lambda=1, scale_pos_weight=1, subsample=1,\n",
      "              tree_method='exact', validate_parameters=1, verbosity=None)\n",
      "\n",
      "------------------------------------------------------------------\n",
      "\n",
      "Tuning hyperparameters for  DecisionTreeClassifier\n",
      "input_params= {'splitter': ['best', 'random'], 'max_depth': [5, 4, 3, None], 'max_features': ['auto', None]}\n",
      "\n",
      "best_train_score=0.899: best_test_score=0.899 : CPU time= 0.42 s\n",
      "best_params= {'max_depth': 4, 'max_features': None, 'splitter': 'best'}\n",
      "model= DecisionTreeClassifier(max_depth=4)\n",
      "\n",
      "------------------------------------------------------------------\n",
      "\n",
      "Tuning hyperparameters for  KNeighborsClassifier\n",
      "input_params= {'n_neighbors': [3, 5, 7, 9, 11, 13, 15], 'weights': ['uniform', 'distance']}\n",
      "\n",
      "best_train_score=0.896: best_test_score=0.896 : CPU time= 8.95 s\n",
      "best_params= {'n_neighbors': 15, 'weights': 'uniform'}\n",
      "model= KNeighborsClassifier(n_neighbors=15)\n",
      "\n",
      "------------------------------------------------------------------\n",
      "\n",
      "Tuning hyperparameters for  LogisticRegression\n",
      "input_params= {'penalty': ['l2'], 'class_weight': [None, 'balanced'], 'solver': ['newton-cg', 'lbfgs', 'liblinear', 'sag', 'saga']}\n",
      "\n",
      "best_train_score=0.900: best_test_score=0.900 : CPU time= 3.59 s\n",
      "best_params= {'class_weight': None, 'penalty': 'l2', 'solver': 'liblinear'}\n",
      "model= LogisticRegression(solver='liblinear')\n",
      "\n",
      "------------------------------------------------------------------\n",
      "\n",
      "Tuning hyperparameters for  GaussianNB\n",
      "input_params= {}\n",
      "\n",
      "best_train_score=0.870: best_test_score=0.872 : CPU time= 0.06 s\n",
      "best_params= {}\n",
      "model= GaussianNB()\n",
      "\n",
      "------------------------------------------------------------------\n",
      "\n",
      "Tuning hyperparameters for  BernoulliNB\n",
      "input_params= {}\n",
      "\n",
      "best_train_score=0.887: best_test_score=0.887 : CPU time= 0.16 s\n",
      "best_params= {}\n",
      "model= BernoulliNB()\n",
      "\n",
      "------------------------------------------------------------------\n",
      "\n",
      "Tuning hyperparameters for  LinearDiscriminantAnalysis\n",
      "input_params= {'solver': ['svd', 'lsqr', 'eigen']}\n",
      "\n",
      "best_train_score=0.894: best_test_score=0.894 : CPU time= 0.28 s\n",
      "best_params= {'solver': 'svd'}\n",
      "model= LinearDiscriminantAnalysis()\n",
      "\n",
      "------------------------------------------------------------------\n",
      "\n",
      "Tuning hyperparameters for  MLPClassifier\n",
      "input_params= {'solver': ['lbfgs', 'sgd', 'adam']}\n",
      "\n",
      "best_train_score=0.892: best_test_score=0.896 : CPU time= 4.77 s\n",
      "best_params= {'solver': 'adam'}\n",
      "model= MLPClassifier()\n",
      "\n",
      "------------------------------------------------------------------\n",
      "\n",
      "Tuning hyperparameters for  LinearSVC\n",
      "input_params= {'penalty': ['l2'], 'loss': ['hinge', 'squared_hinge']}\n",
      "\n",
      "best_train_score=0.899: best_test_score=0.113 : CPU time= 8.86 s\n",
      "best_params= {'loss': 'hinge', 'penalty': 'l2'}\n",
      "model= LinearSVC(loss='hinge')\n",
      "==================================================================\n",
      "\n",
      "The table for each model\n",
      "                      model_inp  train_score  test_score   cpu\n",
      "0           LogisticRegression         0.90        0.90  3.59\n",
      "1       RandomForestClassifier         0.90        0.90 25.09\n",
      "2         ExtraTreesClassifier         0.90        0.90 13.38\n",
      "3       DecisionTreeClassifier         0.90        0.90  0.42\n",
      "4           AdaBoostClassifier         0.90        0.90  3.88\n",
      "5                XGBClassifier         0.90        0.90 13.21\n",
      "6         KNeighborsClassifier         0.90        0.90  8.95\n",
      "7                MLPClassifier         0.90        0.90  4.77\n",
      "8   LinearDiscriminantAnalysis         0.90        0.89  0.28\n",
      "9   GradientBoostingClassifier         0.91        0.89 11.26\n",
      "10                 BernoulliNB         0.89        0.89  0.16\n",
      "11                  GaussianNB         0.87        0.87  0.06\n",
      "12                   LinearSVC         0.11        0.11  8.86 \n",
      "\n",
      "\n",
      "The best model= LogisticRegression(solver='liblinear')\n"
     ]
    }
   ],
   "source": [
    "#tuning paramters (Note: the testing is not used for training!)\n",
    "\n",
    "tune.tune_classifier_all(X_train_s, y_train, X_test_s, y_test,tune=1)\n",
    "#tune.tune_classifier('RandomForestClassifier', X_train_s, y_train, X_test_s, y_test,tune=1)\n",
    "#tune.tune_classifier('XGBClassifier', X_train_s, y_train, X_test_s, y_test, tune=1)"
   ]
  },
  {
   "cell_type": "code",
   "execution_count": 117,
   "metadata": {
    "colab": {
     "base_uri": "https://localhost:8080/",
     "height": 577
    },
    "executionInfo": {
     "elapsed": 2410,
     "status": "ok",
     "timestamp": 1622903666224,
     "user": {
      "displayName": "Huanwang Yang",
      "photoUrl": "",
      "userId": "17645169575771311833"
     },
     "user_tz": 240
    },
    "id": "UJ1WuD8pmE7g",
    "outputId": "4bdc9ae0-f14f-4f50-d79d-f93a9ca401dd"
   },
   "outputs": [
    {
     "name": "stdout",
     "output_type": "stream",
     "text": [
      "[11:48:48] WARNING: /opt/concourse/worker/volumes/live/7a2b9f41-3287-451b-6691-43e9a6c0910f/volume/xgboost-split_1619728204606/work/src/learner.cc:1061: Starting in XGBoost 1.3.0, the default evaluation metric used with the objective 'binary:logistic' was changed from 'error' to 'logloss'. Explicitly set eval_metric if you'd like to restore the old behavior.\n",
      "\n",
      "Confusion_matrix=\n",
      " [[10006   955]\n",
      " [  599   793]]\n",
      "Classification_report=\n",
      "               precision    recall  f1-score   support\n",
      "\n",
      "           0       0.94      0.91      0.93     10961\n",
      "           1       0.45      0.57      0.51      1392\n",
      "\n",
      "    accuracy                           0.87     12353\n",
      "   macro avg       0.70      0.74      0.72     12353\n",
      "weighted avg       0.89      0.87      0.88     12353\n",
      "\n",
      "Classification accuracy= 0.8742005990447664\n",
      "Classification AUC_ROC=  0.8014468683115791\n"
     ]
    },
    {
     "data": {
      "image/png": "[encoded data removed]",
      "text/plain": [
       "<Figure size 432x288 with 1 Axes>"
      ]
     },
     "metadata": {
      "needs_background": "light"
     },
     "output_type": "display_data"
    }
   ],
   "source": [
    "#run the model\n",
    "model= XGBClassifier(base_score=0.5, booster='gbtree', colsample_bylevel=1,\n",
    "              colsample_bynode=1, colsample_bytree=1, gamma=0,\n",
    "              learning_rate=0.1, max_delta_step=0, max_depth=2,\n",
    "              min_child_weight=1, missing=None, n_estimators=200, n_jobs=1,\n",
    "              nthread=None, objective='binary:logistic', random_state=0,\n",
    "              reg_alpha=0, reg_lambda=1, scale_pos_weight=4, seed=None,\n",
    "              silent=None, subsample=1, verbosity=1)\n",
    "\n",
    "model.fit(X_train_s, y_train)  #fit the model \n",
    "y_pred = model.predict(X_test_s)\n",
    "ut.write_result_class(X_test_s, y_test, y_pred,  model)"
   ]
  },
  {
   "cell_type": "markdown",
   "metadata": {
    "id": "lm_rPpf3maDk"
   },
   "source": [
    "<b>Observations from modeling using the numerical data: </b><br>\n",
    "1. grid search was used to tune the hyperparameters. The Classifiers and the scores are listed below.\n",
    "<pre>\n",
    "The table for each model\n",
    "                      model_inp  train_score  test_score   cpu\n",
    "0           LogisticRegression         0.90        0.90  3.59\n",
    "1       RandomForestClassifier         0.90        0.90 25.09\n",
    "2         ExtraTreesClassifier         0.90        0.90 13.38\n",
    "3       DecisionTreeClassifier         0.90        0.90  0.42\n",
    "4           AdaBoostClassifier         0.90        0.90  3.88\n",
    "5                XGBClassifier         0.90        0.90 13.21\n",
    "6         KNeighborsClassifier         0.90        0.90  8.95\n",
    "7                MLPClassifier         0.90        0.90  4.77\n",
    "8   LinearDiscriminantAnalysis         0.90        0.89  0.28\n",
    "9   GradientBoostingClassifier         0.91        0.89 11.26\n",
    "10                 BernoulliNB         0.89        0.89  0.16\n",
    "11                  GaussianNB         0.87        0.87  0.06\n",
    "12                   LinearSVC         0.11        0.11  8.86 \n",
    "\n",
    "</pre>\n",
    "\n",
    "2. When adjusting class weight to balance the target, XGBClassifier became slightly better. The final stats is from XGB.\n"
   ]
  },
  {
   "cell_type": "markdown",
   "metadata": {
    "id": "2Ntc_zBJXAIY"
   },
   "source": [
    "<b>4b. Classification using the categorical data only! </b>"
   ]
  },
  {
   "cell_type": "code",
   "execution_count": 118,
   "metadata": {
    "colab": {
     "base_uri": "https://localhost:8080/"
    },
    "executionInfo": {
     "elapsed": 115,
     "status": "ok",
     "timestamp": 1622904666591,
     "user": {
      "displayName": "Huanwang Yang",
      "photoUrl": "",
      "userId": "17645169575771311833"
     },
     "user_tz": 240
    },
    "id": "YpMd6884W-U7",
    "outputId": "dc2f09fa-82a9-40af-869f-96c13933a82c"
   },
   "outputs": [
    {
     "name": "stdout",
     "output_type": "stream",
     "text": [
      "shape of X=(41176, 43), X_train=(28823, 43),  X_test=(12353, 43)\n"
     ]
    }
   ],
   "source": [
    "#add target y to df_cat\n",
    "df_final=df_cat.copy()\n",
    "df_final['y']=df_num['y']\n",
    "X_train, X_test, y_train, y_test = ut.split_data(df_final, size=0.30, \n",
    "                                                 target='y', stratify='yes')"
   ]
  },
  {
   "cell_type": "code",
   "execution_count": 119,
   "metadata": {
    "colab": {
     "base_uri": "https://localhost:8080/"
    },
    "executionInfo": {
     "elapsed": 5273,
     "status": "ok",
     "timestamp": 1622905330258,
     "user": {
      "displayName": "Huanwang Yang",
      "photoUrl": "",
      "userId": "17645169575771311833"
     },
     "user_tz": 240
    },
    "id": "tqLg2lwBW-YU",
    "outputId": "96b03e3b-a6e6-46f1-fc1b-265b1d8509c6"
   },
   "outputs": [
    {
     "name": "stdout",
     "output_type": "stream",
     "text": [
      "Feature selection:  using ftype= model_XGB nfeature= 25\n",
      "[11:53:02] WARNING: /opt/concourse/worker/volumes/live/7a2b9f41-3287-451b-6691-43e9a6c0910f/volume/xgboost-split_1619728204606/work/src/learner.cc:1061: Starting in XGBoost 1.3.0, the default evaluation metric used with the objective 'binary:logistic' was changed from 'error' to 'logloss'. Explicitly set eval_metric if you'd like to restore the old behavior.\n",
      "The shape of X_train =  (28823, 43)\n",
      "The shape of X_train_select =  (28823, 25)\n",
      "[11:53:03] WARNING: /opt/concourse/worker/volumes/live/7a2b9f41-3287-451b-6691-43e9a6c0910f/volume/xgboost-split_1619728204606/work/src/learner.cc:1061: Starting in XGBoost 1.3.0, the default evaluation metric used with the objective 'binary:logistic' was changed from 'error' to 'logloss'. Explicitly set eval_metric if you'd like to restore the old behavior.\n",
      "                          feature  importance\n",
      "24               poutcome_success        0.24\n",
      "17                      month_mar        0.11\n",
      "20                      month_oct        0.08\n",
      "16                      month_jun        0.07\n",
      "12              contact_telephone        0.07\n",
      "21                      month_sep        0.05\n",
      "18                      month_may        0.04\n",
      "14                      month_dec        0.04\n",
      "15                      month_jul        0.03\n",
      "19                      month_nov        0.03\n",
      "13                      month_aug        0.03\n",
      "10                default_unknown        0.02\n",
      "1                     job_retired        0.02\n",
      "23           poutcome_nonexistent        0.02\n",
      "3                     job_student        0.02\n",
      "9               education_unknown        0.02\n",
      "0                 job_blue-collar        0.02\n",
      "7              education_basic.9y        0.01\n",
      "4                  job_technician        0.01\n",
      "22                day_of_week_mon        0.01\n",
      "11                       loan_yes        0.01\n",
      "8   education_professional.course        0.01\n",
      "5                  marital_single        0.01\n",
      "6              education_basic.6y        0.01\n",
      "2                    job_services        0.01\n"
     ]
    }
   ],
   "source": [
    "#select the best features (RFE is very slow)\n",
    "#X_train, X_test=ut.feature_selection(X_train, X_test, y_train, y_test, 'RFE', 20)\n",
    "X_train_s, X_test_s=ut.feature_selection(X_train, X_test, y_train, y_test, 'model_XGB', 25)\n"
   ]
  },
  {
   "cell_type": "code",
   "execution_count": 120,
   "metadata": {
    "colab": {
     "base_uri": "https://localhost:8080/"
    },
    "executionInfo": {
     "elapsed": 66648,
     "status": "ok",
     "timestamp": 1622905406438,
     "user": {
      "displayName": "Huanwang Yang",
      "photoUrl": "",
      "userId": "17645169575771311833"
     },
     "user_tz": 240
    },
    "id": "NE0N2TB3YA9D",
    "outputId": "47f34f70-4667-4f8a-d182-27f0908cca20"
   },
   "outputs": [
    {
     "name": "stdout",
     "output_type": "stream",
     "text": [
      "\n",
      "------------------------------------------------------------------\n",
      "\n",
      "Tuning hyperparameters for  RandomForestClassifier\n",
      "input_params= {'criterion': ['gini', 'entropy'], 'max_depth': [6, 4, 2, None], 'n_estimators': [200], 'max_features': ['auto', None]}\n",
      "\n",
      "best_train_score=0.898: best_test_score=0.897 : CPU time= 29.61 s\n",
      "best_params= {'criterion': 'gini', 'max_depth': 6, 'max_features': 'auto', 'n_estimators': 200}\n",
      "model= RandomForestClassifier(max_depth=6, n_estimators=200)\n",
      "\n",
      "------------------------------------------------------------------\n",
      "\n",
      "Tuning hyperparameters for  AdaBoostClassifier\n",
      "input_params= {'n_estimators': [200], 'algorithm': ['SAMME', 'SAMME.R']}\n",
      "\n",
      "best_train_score=0.898: best_test_score=0.896 : CPU time= 4.75 s\n",
      "best_params= {'algorithm': 'SAMME', 'n_estimators': 200}\n",
      "model= AdaBoostClassifier(algorithm='SAMME', n_estimators=200)\n",
      "\n",
      "------------------------------------------------------------------\n",
      "\n",
      "Tuning hyperparameters for  GradientBoostingClassifier\n",
      "input_params= {'n_estimators': [200], 'learning_rate': [1.0], 'loss': ['deviance'], 'max_features': ['auto', None], 'max_depth': [5, 4, 3]}\n",
      "\n",
      "best_train_score=0.895: best_test_score=0.895 : CPU time= 14.72 s\n",
      "best_params= {'learning_rate': 1.0, 'loss': 'deviance', 'max_depth': 4, 'max_features': 'auto', 'n_estimators': 200}\n",
      "model= GradientBoostingClassifier(learning_rate=1.0, max_depth=4, max_features='auto',\n",
      "                           n_estimators=200)\n",
      "\n",
      "------------------------------------------------------------------\n",
      "\n",
      "Tuning hyperparameters for  ExtraTreesClassifier\n",
      "input_params= {'criterion': ['gini', 'entropy'], 'max_depth': [6, 4, None], 'n_estimators': [200], 'max_features': ['auto', None]}\n",
      "\n",
      "best_train_score=0.898: best_test_score=0.897 : CPU time= 26.64 s\n",
      "best_params= {'criterion': 'entropy', 'max_depth': 6, 'max_features': 'auto', 'n_estimators': 200}\n",
      "model= ExtraTreesClassifier(criterion='entropy', max_depth=6, n_estimators=200)\n",
      "\n",
      "------------------------------------------------------------------\n",
      "\n",
      "Tuning hyperparameters for  XGBClassifier\n",
      "input_params= {'max_depth': [2, 5, 7, 9], 'subsample': [1], 'n_estimators': [200], 'colsample_bytree': [1]}\n",
      "[11:56:05] WARNING: /opt/concourse/worker/volumes/live/7a2b9f41-3287-451b-6691-43e9a6c0910f/volume/xgboost-split_1619728204606/work/src/learner.cc:1061: Starting in XGBoost 1.3.0, the default evaluation metric used with the objective 'binary:logistic' was changed from 'error' to 'logloss'. Explicitly set eval_metric if you'd like to restore the old behavior.\n",
      "\n",
      "best_train_score=0.898: best_test_score=0.897 : CPU time= 27.55 s\n",
      "best_params= {'colsample_bytree': 1, 'max_depth': 2, 'n_estimators': 200, 'subsample': 1}\n",
      "model= XGBClassifier(base_score=0.5, booster='gbtree', colsample_bylevel=1,\n",
      "              colsample_bynode=1, colsample_bytree=1, gamma=0, gpu_id=-1,\n",
      "              importance_type='gain', interaction_constraints='',\n",
      "              learning_rate=0.300000012, max_delta_step=0, max_depth=2,\n",
      "              min_child_weight=1, missing=nan, monotone_constraints='()',\n",
      "              n_estimators=200, n_jobs=12, num_parallel_tree=1, random_state=0,\n",
      "              reg_alpha=0, reg_lambda=1, scale_pos_weight=1, subsample=1,\n",
      "              tree_method='exact', validate_parameters=1, verbosity=None)\n",
      "\n",
      "------------------------------------------------------------------\n",
      "\n",
      "Tuning hyperparameters for  DecisionTreeClassifier\n",
      "input_params= {'splitter': ['best', 'random'], 'max_depth': [5, 4, 3, None], 'max_features': ['auto', None]}\n",
      "\n",
      "best_train_score=0.898: best_test_score=0.897 : CPU time= 0.43 s\n",
      "best_params= {'max_depth': 5, 'max_features': None, 'splitter': 'best'}\n",
      "model= DecisionTreeClassifier(max_depth=5)\n",
      "\n",
      "------------------------------------------------------------------\n",
      "\n",
      "Tuning hyperparameters for  KNeighborsClassifier\n",
      "input_params= {'n_neighbors': [3, 5, 7, 9, 11, 13, 15], 'weights': ['uniform', 'distance']}\n",
      "\n",
      "best_train_score=0.895: best_test_score=0.893 : CPU time= 186.90 s\n",
      "best_params= {'n_neighbors': 15, 'weights': 'uniform'}\n",
      "model= KNeighborsClassifier(n_neighbors=15)\n",
      "\n",
      "------------------------------------------------------------------\n",
      "\n",
      "Tuning hyperparameters for  LogisticRegression\n",
      "input_params= {'penalty': ['l2'], 'class_weight': [None, 'balanced'], 'solver': ['newton-cg', 'lbfgs', 'liblinear', 'sag', 'saga']}\n",
      "\n",
      "best_train_score=0.897: best_test_score=0.896 : CPU time= 2.05 s\n",
      "best_params= {'class_weight': None, 'penalty': 'l2', 'solver': 'newton-cg'}\n",
      "model= LogisticRegression(solver='newton-cg')\n",
      "\n",
      "------------------------------------------------------------------\n",
      "\n",
      "Tuning hyperparameters for  GaussianNB\n",
      "input_params= {}\n",
      "\n",
      "best_train_score=0.873: best_test_score=0.872 : CPU time= 0.12 s\n",
      "best_params= {}\n",
      "model= GaussianNB()\n",
      "\n",
      "------------------------------------------------------------------\n",
      "\n",
      "Tuning hyperparameters for  BernoulliNB\n",
      "input_params= {}\n",
      "\n",
      "best_train_score=0.890: best_test_score=0.892 : CPU time= 0.10 s\n",
      "best_params= {}\n",
      "model= BernoulliNB()\n",
      "\n",
      "------------------------------------------------------------------\n",
      "\n",
      "Tuning hyperparameters for  LinearDiscriminantAnalysis\n",
      "input_params= {'solver': ['svd', 'lsqr', 'eigen']}\n",
      "\n",
      "best_train_score=0.894: best_test_score=0.892 : CPU time= 0.36 s\n",
      "best_params= {'solver': 'svd'}\n",
      "model= LinearDiscriminantAnalysis()\n",
      "\n",
      "------------------------------------------------------------------\n",
      "\n",
      "Tuning hyperparameters for  MLPClassifier\n",
      "input_params= {'solver': ['lbfgs', 'sgd', 'adam']}\n",
      "\n",
      "best_train_score=0.896: best_test_score=0.895 : CPU time= 33.99 s\n",
      "best_params= {'solver': 'sgd'}\n",
      "model= MLPClassifier(solver='sgd')\n",
      "\n",
      "------------------------------------------------------------------\n",
      "\n",
      "Tuning hyperparameters for  LinearSVC\n",
      "input_params= {'penalty': ['l2'], 'loss': ['hinge', 'squared_hinge']}\n",
      "\n",
      "best_train_score=0.898: best_test_score=0.896 : CPU time= 0.73 s\n",
      "best_params= {'loss': 'hinge', 'penalty': 'l2'}\n",
      "model= LinearSVC(loss='hinge')\n",
      "==================================================================\n",
      "\n",
      "The table for each model\n",
      "                      model_inp  train_score  test_score    cpu\n",
      "0       RandomForestClassifier         0.90        0.90  29.61\n",
      "1                XGBClassifier         0.90        0.90  27.55\n",
      "2         ExtraTreesClassifier         0.90        0.90  26.64\n",
      "3       DecisionTreeClassifier         0.90        0.90   0.43\n",
      "4           AdaBoostClassifier         0.90        0.90   4.75\n",
      "5                    LinearSVC         0.90        0.90   0.73\n",
      "6           LogisticRegression         0.90        0.90   2.05\n",
      "7                MLPClassifier         0.90        0.90  33.99\n",
      "8   GradientBoostingClassifier         0.90        0.89  14.72\n",
      "9         KNeighborsClassifier         0.90        0.89 186.90\n",
      "10  LinearDiscriminantAnalysis         0.89        0.89   0.36\n",
      "11                 BernoulliNB         0.89        0.89   0.10\n",
      "12                  GaussianNB         0.87        0.87   0.12 \n",
      "\n",
      "\n",
      "The best model= RandomForestClassifier(max_depth=6, n_estimators=200)\n"
     ]
    }
   ],
   "source": [
    "#only use XGB for a fast check!\n",
    "tune.tune_classifier_all(X_train_s, y_train, X_test_s, y_test,tune=1)\n",
    "#tune.tune_classifier('RandomForestClassifier', X_train_s, y_train,X_test_s, y_test,tune=1)\n",
    "#tune.tune_classifier('XGBClassifier', X_train_s, y_train, X_test_s, y_test,tune=1)\n"
   ]
  },
  {
   "cell_type": "code",
   "execution_count": 121,
   "metadata": {
    "colab": {
     "base_uri": "https://localhost:8080/",
     "height": 577
    },
    "executionInfo": {
     "elapsed": 3338,
     "status": "ok",
     "timestamp": 1622905461988,
     "user": {
      "displayName": "Huanwang Yang",
      "photoUrl": "",
      "userId": "17645169575771311833"
     },
     "user_tz": 240
    },
    "id": "EAV_yy9a8F65",
    "outputId": "9d892073-0e0e-4804-b5c5-e3e969f9ae96"
   },
   "outputs": [
    {
     "name": "stdout",
     "output_type": "stream",
     "text": [
      "[12:04:52] WARNING: /opt/concourse/worker/volumes/live/7a2b9f41-3287-451b-6691-43e9a6c0910f/volume/xgboost-split_1619728204606/work/src/learner.cc:1061: Starting in XGBoost 1.3.0, the default evaluation metric used with the objective 'binary:logistic' was changed from 'error' to 'logloss'. Explicitly set eval_metric if you'd like to restore the old behavior.\n",
      "\n",
      "Confusion_matrix=\n",
      " [[10240   721]\n",
      " [  765   627]]\n",
      "Classification_report=\n",
      "               precision    recall  f1-score   support\n",
      "\n",
      "           0       0.93      0.93      0.93     10961\n",
      "           1       0.47      0.45      0.46      1392\n",
      "\n",
      "    accuracy                           0.88     12353\n",
      "   macro avg       0.70      0.69      0.70     12353\n",
      "weighted avg       0.88      0.88      0.88     12353\n",
      "\n",
      "Classification accuracy= 0.8797053347365013\n",
      "Classification AUC_ROC=  0.7768812912447163\n"
     ]
    },
    {
     "data": {
      "image/png": "[encoded data removed]",
      "text/plain": [
       "<Figure size 432x288 with 1 Axes>"
      ]
     },
     "metadata": {
      "needs_background": "light"
     },
     "output_type": "display_data"
    }
   ],
   "source": [
    "# Create and run the model (fit and predict)\n",
    "\n",
    "\n",
    "model= XGBClassifier(base_score=0.5, booster='gbtree', colsample_bylevel=1,\n",
    "              colsample_bynode=1, colsample_bytree=1, gamma=0, gpu_id=-1,\n",
    "              importance_type='gain', interaction_constraints='',\n",
    "              learning_rate=0.300000012, max_delta_step=0, max_depth=2,\n",
    "              min_child_weight=1,  monotone_constraints='()',\n",
    "              n_estimators=200, n_jobs=12, num_parallel_tree=1, random_state=0,\n",
    "              reg_alpha=0, reg_lambda=1, scale_pos_weight=4, subsample=1,\n",
    "              tree_method='exact', validate_parameters=1, verbosity=None)\n",
    "\n",
    "model.fit(X_train_s, y_train)  #fit the model \n",
    "y_pred = model.predict(X_test_s)\n",
    "ut.write_result_class(X_test_s, y_test, y_pred,  model)\n"
   ]
  },
  {
   "cell_type": "markdown",
   "metadata": {
    "id": "_ieSCxW9tOSx"
   },
   "source": [
    "<b>Observation from the above modeling:</b> <br>\n",
    "1. The prediction using the categorical data is only slightly worse than that using numerical values."
   ]
  },
  {
   "cell_type": "markdown",
   "metadata": {
    "id": "q62DowbKaNQe"
   },
   "source": [
    "**4c. Classification using all features (categorical + numerical)**"
   ]
  },
  {
   "cell_type": "code",
   "execution_count": 122,
   "metadata": {
    "colab": {
     "base_uri": "https://localhost:8080/"
    },
    "executionInfo": {
     "elapsed": 106,
     "status": "ok",
     "timestamp": 1622906002792,
     "user": {
      "displayName": "Huanwang Yang",
      "photoUrl": "",
      "userId": "17645169575771311833"
     },
     "user_tz": 240
    },
    "id": "rCWOaCi8ajr1",
    "outputId": "356e8859-a5cf-4dc8-de8a-bcc82b3275d4"
   },
   "outputs": [
    {
     "data": {
      "text/plain": [
       "(41176, 52)"
      ]
     },
     "execution_count": 122,
     "metadata": {},
     "output_type": "execute_result"
    }
   ],
   "source": [
    "df1=pd.concat([df_num, df_cat], axis=1)\n",
    "df1.shape"
   ]
  },
  {
   "cell_type": "code",
   "execution_count": 123,
   "metadata": {
    "colab": {
     "base_uri": "https://localhost:8080/"
    },
    "executionInfo": {
     "elapsed": 113,
     "status": "ok",
     "timestamp": 1622906044451,
     "user": {
      "displayName": "Huanwang Yang",
      "photoUrl": "",
      "userId": "17645169575771311833"
     },
     "user_tz": 240
    },
    "id": "eti0CoEpdL6d",
    "outputId": "d6e2df9b-2b38-48d9-bb7c-bee34e3adbb1"
   },
   "outputs": [
    {
     "name": "stdout",
     "output_type": "stream",
     "text": [
      "shape of X=(41176, 51), X_train=(28823, 51),  X_test=(12353, 51)\n"
     ]
    }
   ],
   "source": [
    "df_final=df1.copy()\n",
    "X_train, X_test, y_train, y_test = ut.split_data(df_final, size=0.30, \n",
    "                                                 target='y', stratify='yes')"
   ]
  },
  {
   "cell_type": "code",
   "execution_count": 131,
   "metadata": {
    "colab": {
     "base_uri": "https://localhost:8080/"
    },
    "executionInfo": {
     "elapsed": 6303,
     "status": "ok",
     "timestamp": 1622906083299,
     "user": {
      "displayName": "Huanwang Yang",
      "photoUrl": "",
      "userId": "17645169575771311833"
     },
     "user_tz": 240
    },
    "id": "X7cLUxkhaoPv",
    "outputId": "ea1ac195-0bda-4588-b1c9-9a75fa64ba36"
   },
   "outputs": [
    {
     "name": "stdout",
     "output_type": "stream",
     "text": [
      "Feature selection:  using ftype= model_XGB nfeature= 30\n",
      "[12:17:13] WARNING: /opt/concourse/worker/volumes/live/7a2b9f41-3287-451b-6691-43e9a6c0910f/volume/xgboost-split_1619728204606/work/src/learner.cc:1061: Starting in XGBoost 1.3.0, the default evaluation metric used with the objective 'binary:logistic' was changed from 'error' to 'logloss'. Explicitly set eval_metric if you'd like to restore the old behavior.\n",
      "The shape of X_train =  (28823, 51)\n",
      "The shape of X_train_select =  (28823, 30)\n",
      "[12:17:15] WARNING: /opt/concourse/worker/volumes/live/7a2b9f41-3287-451b-6691-43e9a6c0910f/volume/xgboost-split_1619728204606/work/src/learner.cc:1061: Starting in XGBoost 1.3.0, the default evaluation metric used with the objective 'binary:logistic' was changed from 'error' to 'logloss'. Explicitly set eval_metric if you'd like to restore the old behavior.\n",
      "                          feature  importance\n",
      "5                     nr.employed        0.46\n",
      "29               poutcome_success        0.06\n",
      "24                      month_oct        0.05\n",
      "2                    emp.var.rate        0.03\n",
      "18              contact_telephone        0.03\n",
      "4                   cons.conf.idx        0.03\n",
      "0                           pdays        0.03\n",
      "9                     job_retired        0.02\n",
      "16                default_unknown        0.02\n",
      "3                  cons.price.idx        0.02\n",
      "13             education_basic.9y        0.01\n",
      "26                day_of_week_thu        0.01\n",
      "23                      month_may        0.01\n",
      "28                day_of_week_wed        0.01\n",
      "27                day_of_week_tue        0.01\n",
      "25                day_of_week_mon        0.01\n",
      "21                      month_jun        0.01\n",
      "17                       loan_yes        0.01\n",
      "6                 job_blue-collar        0.01\n",
      "1                        previous        0.01\n",
      "19                      month_aug        0.01\n",
      "15    education_university.degree        0.01\n",
      "20                      month_jul        0.01\n",
      "22                      month_mar        0.01\n",
      "10                 job_technician        0.01\n",
      "11                 marital_single        0.01\n",
      "7                job_entrepreneur        0.01\n",
      "14  education_professional.course        0.01\n",
      "8                  job_management        0.01\n",
      "12                marital_unknown        0.01\n"
     ]
    }
   ],
   "source": [
    "#select the best features (RFE is very slow)\n",
    "#X_train, X_test=ut.feature_selection(X_train, X_test, y_train, y_test, 'RFE', 20)\n",
    "X_train_s, X_test_s=ut.feature_selection(X_train, X_test, y_train, y_test, 'model_XGB', 30)"
   ]
  },
  {
   "cell_type": "code",
   "execution_count": 125,
   "metadata": {
    "colab": {
     "base_uri": "https://localhost:8080/"
    },
    "executionInfo": {
     "elapsed": 89152,
     "status": "ok",
     "timestamp": 1622906212301,
     "user": {
      "displayName": "Huanwang Yang",
      "photoUrl": "",
      "userId": "17645169575771311833"
     },
     "user_tz": 240
    },
    "id": "mHvLdBt2caXS",
    "outputId": "604842a8-57e0-4c4f-f7d2-2f627cad783e"
   },
   "outputs": [
    {
     "name": "stdout",
     "output_type": "stream",
     "text": [
      "\n",
      "------------------------------------------------------------------\n",
      "\n",
      "Tuning hyperparameters for  XGBClassifier\n",
      "input_params= {'max_depth': [2, 5, 7, 9], 'subsample': [1], 'n_estimators': [200], 'colsample_bytree': [1]}\n",
      "[12:09:32] WARNING: /opt/concourse/worker/volumes/live/7a2b9f41-3287-451b-6691-43e9a6c0910f/volume/xgboost-split_1619728204606/work/src/learner.cc:1061: Starting in XGBoost 1.3.0, the default evaluation metric used with the objective 'binary:logistic' was changed from 'error' to 'logloss'. Explicitly set eval_metric if you'd like to restore the old behavior.\n",
      "\n",
      "best_train_score=0.900: best_test_score=0.899 : CPU time= 28.21 s\n",
      "best_params= {'colsample_bytree': 1, 'max_depth': 2, 'n_estimators': 200, 'subsample': 1}\n",
      "model= XGBClassifier(base_score=0.5, booster='gbtree', colsample_bylevel=1,\n",
      "              colsample_bynode=1, colsample_bytree=1, gamma=0, gpu_id=-1,\n",
      "              importance_type='gain', interaction_constraints='',\n",
      "              learning_rate=0.300000012, max_delta_step=0, max_depth=2,\n",
      "              min_child_weight=1, missing=nan, monotone_constraints='()',\n",
      "              n_estimators=200, n_jobs=12, num_parallel_tree=1, random_state=0,\n",
      "              reg_alpha=0, reg_lambda=1, scale_pos_weight=1, subsample=1,\n",
      "              tree_method='exact', validate_parameters=1, verbosity=None)\n"
     ]
    },
    {
     "data": {
      "text/plain": [
       "['XGBClassifier',\n",
       " 0.9051451965444264,\n",
       " 0.8992957176394398,\n",
       " 28.20777702331543,\n",
       " {'colsample_bytree': 1, 'max_depth': 2, 'n_estimators': 200, 'subsample': 1},\n",
       " XGBClassifier(base_score=0.5, booster='gbtree', colsample_bylevel=1,\n",
       "               colsample_bynode=1, colsample_bytree=1, gamma=0, gpu_id=-1,\n",
       "               importance_type='gain', interaction_constraints='',\n",
       "               learning_rate=0.300000012, max_delta_step=0, max_depth=2,\n",
       "               min_child_weight=1, missing=nan, monotone_constraints='()',\n",
       "               n_estimators=200, n_jobs=12, num_parallel_tree=1, random_state=0,\n",
       "               reg_alpha=0, reg_lambda=1, scale_pos_weight=1, subsample=1,\n",
       "               tree_method='exact', validate_parameters=1, verbosity=None)]"
      ]
     },
     "execution_count": 125,
     "metadata": {},
     "output_type": "execute_result"
    }
   ],
   "source": [
    "#only use XGB for a fast check!\n",
    "#tune.tune_classifier_all(X_train_s, y_train, X_test_s, y_test,tune=1)\n",
    "tune.tune_classifier('XGBClassifier', X_train_s, y_train, X_test_s, y_test,tune=1)"
   ]
  },
  {
   "cell_type": "code",
   "execution_count": 132,
   "metadata": {
    "colab": {
     "base_uri": "https://localhost:8080/",
     "height": 577
    },
    "executionInfo": {
     "elapsed": 5409,
     "status": "ok",
     "timestamp": 1622906519750,
     "user": {
      "displayName": "Huanwang Yang",
      "photoUrl": "",
      "userId": "17645169575771311833"
     },
     "user_tz": 240
    },
    "id": "n3-unrF_caTz",
    "outputId": "44b3e8ca-aa2e-4f0e-9ec0-9212e8c74204"
   },
   "outputs": [
    {
     "name": "stdout",
     "output_type": "stream",
     "text": [
      "[12:17:55] WARNING: /opt/concourse/worker/volumes/live/7a2b9f41-3287-451b-6691-43e9a6c0910f/volume/xgboost-split_1619728204606/work/src/learner.cc:1061: Starting in XGBoost 1.3.0, the default evaluation metric used with the objective 'binary:logistic' was changed from 'error' to 'logloss'. Explicitly set eval_metric if you'd like to restore the old behavior.\n",
      "\n",
      "Confusion_matrix=\n",
      " [[10033   928]\n",
      " [  588   804]]\n",
      "Classification_report=\n",
      "               precision    recall  f1-score   support\n",
      "\n",
      "           0       0.94      0.92      0.93     10961\n",
      "           1       0.46      0.58      0.51      1392\n",
      "\n",
      "    accuracy                           0.88     12353\n",
      "   macro avg       0.70      0.75      0.72     12353\n",
      "weighted avg       0.89      0.88      0.88     12353\n",
      "\n",
      "Classification accuracy= 0.8772767748725006\n",
      "Classification AUC_ROC=  0.8040430963698881\n"
     ]
    },
    {
     "data": {
      "image/png": "[encoded data removed]",
      "text/plain": [
       "<Figure size 432x288 with 1 Axes>"
      ]
     },
     "metadata": {
      "needs_background": "light"
     },
     "output_type": "display_data"
    }
   ],
   "source": [
    "# Create and run the model (fit and predict)\n",
    "\n",
    "model= XGBClassifier(base_score=0.5, booster='gbtree', colsample_bylevel=1,\n",
    "              colsample_bynode=1, colsample_bytree=1, gamma=0, gpu_id=-1,\n",
    "              importance_type='gain', interaction_constraints='',\n",
    "              learning_rate=0.300000012, max_delta_step=0, max_depth=2,\n",
    "              min_child_weight=1,  monotone_constraints='()',\n",
    "              n_estimators=200, n_jobs=12, num_parallel_tree=1, random_state=0,\n",
    "              reg_alpha=0, reg_lambda=1, scale_pos_weight=4, subsample=1,\n",
    "              tree_method='exact', validate_parameters=1, verbosity=None)\n",
    "\n",
    "\n",
    "\n",
    "model.fit(X_train_s, y_train)  #fit the model \n",
    "y_pred = model.predict(X_test_s)\n",
    "ut.write_result_class(X_test_s, y_test, y_pred,  model)\n"
   ]
  },
  {
   "cell_type": "markdown",
   "metadata": {
    "id": "F3mq1hfDxWDW"
   },
   "source": [
    "Observations: <br>\n",
    "1. Classification using the full features are better than using either numerical or categorical data.\n"
   ]
  },
  {
   "cell_type": "markdown",
   "metadata": {
    "id": "uLjxDcPvfYBe"
   },
   "source": [
    "**4d. Classification based on the synthesized full data set by SMOTE**\n",
    "<br>\n",
    "Only the training data is over-sampled so that no data leak will happen.\n",
    "<br>\n",
    "Fit the model using the oversampled data, but prediction using the original data!"
   ]
  },
  {
   "cell_type": "code",
   "execution_count": 122,
   "metadata": {
    "colab": {
     "base_uri": "https://localhost:8080/"
    },
    "executionInfo": {
     "elapsed": 692,
     "status": "ok",
     "timestamp": 1622907660483,
     "user": {
      "displayName": "Huanwang Yang",
      "photoUrl": "",
      "userId": "17645169575771311833"
     },
     "user_tz": 240
    },
    "id": "PwmA0lNcfWGG",
    "outputId": "f5d1eaea-0386-4cb2-eaa2-432b83e25616"
   },
   "outputs": [
    {
     "name": "stdout",
     "output_type": "stream",
     "text": [
      "Prog: SMOTE;  # of original X=28823; # of resampled X=51152; perc=1.8e+02%\n",
      "After Sampling, the shape of X: (51152, 30)\n",
      "After Sampling, counts of label '1': 25576\n",
      "After Sampling, counts of label '0': 25576\n"
     ]
    }
   ],
   "source": [
    "X_train_sm, y_train_sm=ut.resample_imbalanced_data(X_train_s, y_train, types='SMOTE', \n",
    "                                                   ratio=1.0, target='y')"
   ]
  },
  {
   "cell_type": "code",
   "execution_count": 120,
   "metadata": {
    "colab": {
     "base_uri": "https://localhost:8080/"
    },
    "executionInfo": {
     "elapsed": 196492,
     "status": "ok",
     "timestamp": 1622907351733,
     "user": {
      "displayName": "Huanwang Yang",
      "photoUrl": "",
      "userId": "17645169575771311833"
     },
     "user_tz": 240
    },
    "id": "ieKJUljVktzE",
    "outputId": "13e97011-be26-43bc-a42a-1c8a88b75520"
   },
   "outputs": [
    {
     "name": "stdout",
     "output_type": "stream",
     "text": [
      "\n",
      "------------------------------------------------------------------\n",
      "\n",
      "Tuning hyperparameters for  XGBClassifier\n",
      "input_params= {'max_depth': [2, 5, 7, 9], 'subsample': [1], 'n_estimators': [200], 'colsample_bytree': [1]}\n",
      "\n",
      "best_train_score=0.923: best_test_score=0.896 : CPU time= 195.05 s\n",
      "best_params= {'colsample_bytree': 1, 'max_depth': 9, 'n_estimators': 200, 'subsample': 1}\n",
      "model= XGBClassifier(base_score=0.5, booster='gbtree', colsample_bylevel=1,\n",
      "              colsample_bynode=1, colsample_bytree=1, gamma=0,\n",
      "              learning_rate=0.1, max_delta_step=0, max_depth=9,\n",
      "              min_child_weight=1, missing=None, n_estimators=200, n_jobs=1,\n",
      "              nthread=None, objective='binary:logistic', random_state=0,\n",
      "              reg_alpha=0, reg_lambda=1, scale_pos_weight=1, seed=None,\n",
      "              silent=None, subsample=1, verbosity=1)\n"
     ]
    },
    {
     "data": {
      "text/plain": [
       "['XGBClassifier',\n",
       " 0.9616455547276364,\n",
       " 0.8955719258479722,\n",
       " 195.0489375591278,\n",
       " {'colsample_bytree': 1, 'max_depth': 9, 'n_estimators': 200, 'subsample': 1},\n",
       " XGBClassifier(base_score=0.5, booster='gbtree', colsample_bylevel=1,\n",
       "               colsample_bynode=1, colsample_bytree=1, gamma=0,\n",
       "               learning_rate=0.1, max_delta_step=0, max_depth=9,\n",
       "               min_child_weight=1, missing=None, n_estimators=200, n_jobs=1,\n",
       "               nthread=None, objective='binary:logistic', random_state=0,\n",
       "               reg_alpha=0, reg_lambda=1, scale_pos_weight=1, seed=None,\n",
       "               silent=None, subsample=1, verbosity=1)]"
      ]
     },
     "execution_count": 120,
     "metadata": {
      "tags": []
     },
     "output_type": "execute_result"
    }
   ],
   "source": [
    "# Use the selected features \n",
    "tune.tune_classifier('XGBClassifier', X_train_sm, y_train_sm, X_test_s, y_test, tune=1)"
   ]
  },
  {
   "cell_type": "code",
   "execution_count": 130,
   "metadata": {
    "colab": {
     "base_uri": "https://localhost:8080/",
     "height": 577
    },
    "executionInfo": {
     "elapsed": 12560,
     "status": "ok",
     "timestamp": 1622908000901,
     "user": {
      "displayName": "Huanwang Yang",
      "photoUrl": "",
      "userId": "17645169575771311833"
     },
     "user_tz": 240
    },
    "id": "8kBdIzlak-nQ",
    "outputId": "d8359684-cdca-45ca-ff95-acf586660a07"
   },
   "outputs": [
    {
     "name": "stdout",
     "output_type": "stream",
     "text": [
      "\n",
      "Confusion_matrix=\n",
      " [[9780 1181]\n",
      " [ 565  827]]\n",
      "Classification_report=\n",
      "               precision    recall  f1-score   support\n",
      "\n",
      "           0       0.95      0.89      0.92     10961\n",
      "           1       0.41      0.59      0.49      1392\n",
      "\n",
      "    accuracy                           0.86     12353\n",
      "   macro avg       0.68      0.74      0.70     12353\n",
      "weighted avg       0.89      0.86      0.87     12353\n",
      "\n",
      "Classification accuracy= 0.8586578159151623\n",
      "Classification AUC_ROC=  0.7946210087069411\n"
     ]
    },
    {
     "data": {
      "image/png": "[encoded data removed]",
      "text/plain": [
       "<Figure size 432x288 with 1 Axes>"
      ]
     },
     "metadata": {
      "needs_background": "light",
      "tags": []
     },
     "output_type": "display_data"
    }
   ],
   "source": [
    "model= XGBClassifier(base_score=0.5, booster='gbtree', colsample_bylevel=1,\n",
    "              colsample_bynode=1, colsample_bytree=1, gamma=0,\n",
    "              learning_rate=0.1, max_delta_step=0, max_depth=4,\n",
    "              min_child_weight=1, missing=None, n_estimators=200, n_jobs=-1,\n",
    "              nthread=None, objective='binary:logistic', random_state=0,\n",
    "              reg_alpha=0, reg_lambda=1, scale_pos_weight=4, seed=None,\n",
    "              silent=None, subsample=1, verbosity=1)\n",
    "\n",
    "\n",
    "model.fit(X_train_sm, y_train_sm)  #fit the model to sampled data\n",
    "\n",
    "y_pred = model.predict(X_test_s)  #predict against the original data\n",
    "ut.write_result_class(X_test_s, y_test, y_pred,  model)\n",
    "\n"
   ]
  },
  {
   "cell_type": "code",
   "execution_count": 132,
   "metadata": {
    "colab": {
     "base_uri": "https://localhost:8080/"
    },
    "executionInfo": {
     "elapsed": 36320,
     "status": "ok",
     "timestamp": 1622908119775,
     "user": {
      "displayName": "Huanwang Yang",
      "photoUrl": "",
      "userId": "17645169575771311833"
     },
     "user_tz": 240
    },
    "id": "sUdlZwEOHVze",
    "outputId": "59bc004d-32aa-4899-8f39-2c91dbb07e0e"
   },
   "outputs": [
    {
     "name": "stdout",
     "output_type": "stream",
     "text": [
      "Perform 5 folder cross validation for the training data.\n",
      "\n",
      "XGBClassifier(base_score=0.5, booster='gbtree', colsample_bylevel=1,\n",
      "              colsample_bynode=1, colsample_bytree=1, gamma=0,\n",
      "              learning_rate=0.1, max_delta_step=0, max_depth=4,\n",
      "              min_child_weight=1, missing=None, n_estimators=200, n_jobs=-1,\n",
      "              nthread=None, objective='binary:logistic', random_state=0,\n",
      "              reg_alpha=0, reg_lambda=1, scale_pos_weight=4, seed=None,\n",
      "              silent=None, subsample=1, verbosity=1): \n",
      "\n",
      "accuracy=0.873296 (std=0.004500)\n"
     ]
    }
   ],
   "source": [
    "# Do cross validation \n",
    "from sklearn import model_selection\n",
    "\n",
    "print ('Perform 5 folder cross validation for the training data.')\n",
    "kfold = model_selection.KFold(n_splits=5, random_state=7)\n",
    "cv_results = model_selection.cross_val_score(model,X_train, y_train, cv=kfold, scoring='accuracy')\n",
    "msg = \"\\n%s: \\n\\naccuracy=%f (std=%f)\" % (model, cv_results.mean(), cv_results.std())\n",
    "print(msg)\n"
   ]
  },
  {
   "cell_type": "markdown",
   "metadata": {
    "id": "PcO2d4RRm4yK"
   },
   "source": [
    "<b> 4e. Classification by Convolutional Neuro network CNN (use CONV1D) </b>"
   ]
  },
  {
   "cell_type": "code",
   "execution_count": 162,
   "metadata": {
    "colab": {
     "base_uri": "https://localhost:8080/"
    },
    "executionInfo": {
     "elapsed": 103,
     "status": "ok",
     "timestamp": 1622910638965,
     "user": {
      "displayName": "Huanwang Yang",
      "photoUrl": "",
      "userId": "17645169575771311833"
     },
     "user_tz": 240
    },
    "id": "3bjZJXkXr3oO",
    "outputId": "5bcf304e-a14f-4627-9111-8dd3fb3932a4"
   },
   "outputs": [
    {
     "data": {
      "text/plain": [
       "((28823, 30), (12353, 30), numpy.ndarray, numpy.ndarray)"
      ]
     },
     "execution_count": 162,
     "metadata": {
      "tags": []
     },
     "output_type": "execute_result"
    }
   ],
   "source": [
    "#standarize the training and testing data (Robust, MinMax, Standard)\n",
    "#NN needs numpy data type.(data_type='np' or 'df')\n",
    "X_train_nn, X_test_nn=ut.data_scalor(X_train_s, X_test_s, data_type='np',scale_type='MinMax')\n",
    "X_train_nn.shape, X_test_nn.shape, type(X_train_nn),type(X_test_nn)"
   ]
  },
  {
   "cell_type": "code",
   "execution_count": 202,
   "metadata": {
    "colab": {
     "base_uri": "https://localhost:8080/"
    },
    "executionInfo": {
     "elapsed": 107,
     "status": "ok",
     "timestamp": 1622912391930,
     "user": {
      "displayName": "Huanwang Yang",
      "photoUrl": "",
      "userId": "17645169575771311833"
     },
     "user_tz": 240
    },
    "id": "zffE6pXrpFIp",
    "outputId": "4ebe554e-4937-4839-ea04-be36a19f7b7f"
   },
   "outputs": [
    {
     "data": {
      "text/plain": [
       "((28823, 30, 1), (12353, 30, 1), (28823, 30))"
      ]
     },
     "execution_count": 202,
     "metadata": {
      "tags": []
     },
     "output_type": "execute_result"
    }
   ],
   "source": [
    "#-----------next try a different approch of NN Conv1D--------------------\n",
    "#Note: neuron network accept 3 D data (convert np first)\n",
    "\n",
    "xnn_train=np.array(X_train_nn).reshape(X_train_nn.shape[0],X_train_nn.shape[1],1)\n",
    "xnn_test=np.array(X_test_nn).reshape(X_test_nn.shape[0],X_test_nn.shape[1],1)\n",
    "xnn_train.shape, xnn_test.shape , X_train_nn.shape"
   ]
  },
  {
   "cell_type": "code",
   "execution_count": 224,
   "metadata": {
    "executionInfo": {
     "elapsed": 124,
     "status": "ok",
     "timestamp": 1622915660720,
     "user": {
      "displayName": "Huanwang Yang",
      "photoUrl": "",
      "userId": "17645169575771311833"
     },
     "user_tz": 240
    },
    "id": "yNApOHxjiUnf"
   },
   "outputs": [],
   "source": [
    "#build model !\n",
    "\n",
    "#creat the architecture\n",
    "model=Sequential()\n",
    "\n",
    "#convolution layer\n",
    "model.add(Conv1D(filters=32, kernel_size=2, activation='relu', input_shape=(xnn_test.shape[1],1)))\n",
    "model.add(BatchNormalization())\n",
    "#model.add(MaxPooling1D(pool_size=2))\n",
    "model.add(Dropout(0.5))  #drop 20% neurons randomly\n",
    "\n",
    "#the second layer\n",
    "model.add(Conv1D(filters=64, kernel_size=2, activation='relu'))\n",
    "model.add(BatchNormalization())\n",
    "#model.add(MaxPooling1D(pool_size=2))\n",
    "model.add(Dropout(0.5))  #drop 20% neurons randomly\n",
    "\n",
    "#Flatten layer\n",
    "model.add(Flatten())\n",
    "model.add(Dense(256, activation='relu'))\n",
    "model.add(Dropout(0.5)) #prevent overfitting\n",
    "\n",
    "#Note: here the activation makes a huge difference\n",
    "#model.add(Dense(1, activation='softmax'))\n",
    "model.add(Dense(1, activation='sigmoid'))\n",
    "\n"
   ]
  },
  {
   "cell_type": "code",
   "execution_count": 213,
   "metadata": {
    "executionInfo": {
     "elapsed": 102,
     "status": "ok",
     "timestamp": 1622914841741,
     "user": {
      "displayName": "Huanwang Yang",
      "photoUrl": "",
      "userId": "17645169575771311833"
     },
     "user_tz": 240
    },
    "id": "jxqhumEeQooM"
   },
   "outputs": [],
   "source": [
    "#print(model.summary())"
   ]
  },
  {
   "cell_type": "code",
   "execution_count": 225,
   "metadata": {
    "colab": {
     "base_uri": "https://localhost:8080/"
    },
    "executionInfo": {
     "elapsed": 144290,
     "status": "ok",
     "timestamp": 1622915808050,
     "user": {
      "displayName": "Huanwang Yang",
      "photoUrl": "",
      "userId": "17645169575771311833"
     },
     "user_tz": 240
    },
    "id": "c_ax1KfciUqk",
    "outputId": "652b185e-718f-4d7b-fe1e-3c3ace1ddefd"
   },
   "outputs": [
    {
     "name": "stdout",
     "output_type": "stream",
     "text": [
      "Epoch 1/10\n",
      "631/631 [==============================] - 10s 13ms/step - loss: 0.5419 - accuracy: 0.8181 - val_loss: 0.2926 - val_accuracy: 0.8933\n",
      "Epoch 2/10\n",
      "631/631 [==============================] - 9s 14ms/step - loss: 0.3980 - accuracy: 0.8748 - val_loss: 0.3045 - val_accuracy: 0.8945\n",
      "Epoch 3/10\n",
      "631/631 [==============================] - 8s 13ms/step - loss: 0.3675 - accuracy: 0.8800 - val_loss: 0.3415 - val_accuracy: 0.8955\n",
      "Epoch 4/10\n",
      "631/631 [==============================] - 8s 13ms/step - loss: 0.3333 - accuracy: 0.8913 - val_loss: 0.3509 - val_accuracy: 0.8966\n",
      "Epoch 5/10\n",
      "631/631 [==============================] - 8s 13ms/step - loss: 0.3357 - accuracy: 0.8875 - val_loss: 0.3502 - val_accuracy: 0.8971\n",
      "Epoch 6/10\n",
      "631/631 [==============================] - 8s 13ms/step - loss: 0.3289 - accuracy: 0.8921 - val_loss: 0.3470 - val_accuracy: 0.8966\n",
      "Epoch 7/10\n",
      "631/631 [==============================] - 9s 14ms/step - loss: 0.3104 - accuracy: 0.8978 - val_loss: 0.3484 - val_accuracy: 0.8965\n",
      "Epoch 8/10\n",
      "631/631 [==============================] - 8s 13ms/step - loss: 0.3154 - accuracy: 0.8914 - val_loss: 0.3315 - val_accuracy: 0.8961\n",
      "Epoch 9/10\n",
      "631/631 [==============================] - 8s 13ms/step - loss: 0.3220 - accuracy: 0.8894 - val_loss: 0.3244 - val_accuracy: 0.8961\n",
      "Epoch 10/10\n",
      "631/631 [==============================] - 9s 14ms/step - loss: 0.2967 - accuracy: 0.8993 - val_loss: 0.3248 - val_accuracy: 0.8964\n"
     ]
    }
   ],
   "source": [
    "#model.compile(loss='binary_crossentropy', optimizer='sgd', metrics=['accuracy'])\n",
    "model.compile(loss='binary_crossentropy', optimizer=Adam(lr=0.00005), metrics=['accuracy'])\n",
    "history=model.fit(xnn_train, y_train, epochs=10, validation_split=0.30, verbose=1)"
   ]
  },
  {
   "cell_type": "code",
   "execution_count": 226,
   "metadata": {
    "colab": {
     "base_uri": "https://localhost:8080/",
     "height": 585
    },
    "executionInfo": {
     "elapsed": 623,
     "status": "ok",
     "timestamp": 1622915808661,
     "user": {
      "displayName": "Huanwang Yang",
      "photoUrl": "",
      "userId": "17645169575771311833"
     },
     "user_tz": 240
    },
    "id": "qX_-ZkcTiUt-",
    "outputId": "d506d208-22c7-4042-d7b9-b62a6a966450"
   },
   "outputs": [
    {
     "data": {
      "image/png": "[encoded data removed]",
      "text/plain": [
       "<Figure size 432x288 with 1 Axes>"
      ]
     },
     "metadata": {
      "needs_background": "light",
      "tags": []
     },
     "output_type": "display_data"
    },
    {
     "data": {
      "image/png": "[encoded data removed]",
      "text/plain": [
       "<Figure size 432x288 with 1 Axes>"
      ]
     },
     "metadata": {
      "needs_background": "light",
      "tags": []
     },
     "output_type": "display_data"
    }
   ],
   "source": [
    "#look at the history\n",
    "#print(history.history)\n",
    "ut.plot_deep_learning_curve(history)"
   ]
  },
  {
   "cell_type": "code",
   "execution_count": 227,
   "metadata": {
    "colab": {
     "base_uri": "https://localhost:8080/",
     "height": 595
    },
    "executionInfo": {
     "elapsed": 4887,
     "status": "ok",
     "timestamp": 1622915821849,
     "user": {
      "displayName": "Huanwang Yang",
      "photoUrl": "",
      "userId": "17645169575771311833"
     },
     "user_tz": 240
    },
    "id": "d5bEgmpXkvTD",
    "outputId": "3d1cd2d5-2c2e-4d88-a667-4f4b9de19fec"
   },
   "outputs": [
    {
     "name": "stdout",
     "output_type": "stream",
     "text": [
      "\n",
      "Confusion_matrix=\n",
      " [[10855   106]\n",
      " [ 1158   234]]\n",
      "Classification_report=\n",
      "               precision    recall  f1-score   support\n",
      "\n",
      "           0       0.90      0.99      0.94     10961\n",
      "           1       0.69      0.17      0.27      1392\n",
      "\n",
      "    accuracy                           0.90     12353\n",
      "   macro avg       0.80      0.58      0.61     12353\n",
      "weighted avg       0.88      0.90      0.87     12353\n",
      "\n",
      "387/387 [==============================] - 1s 3ms/step - loss: 0.3197 - accuracy: 0.8977\n",
      "Loss & accuracy= [0.3197123408317566, 0.8976767063140869]\n",
      "Classification AUC_ROC=  0.7928512479459567\n"
     ]
    },
    {
     "data": {
      "image/png": "[encoded data removed]",
      "text/plain": [
       "<Figure size 432x288 with 1 Axes>"
      ]
     },
     "metadata": {
      "needs_background": "light",
      "tags": []
     },
     "output_type": "display_data"
    }
   ],
   "source": [
    "ut.write_cnn_result(x_test, y_test, model)"
   ]
  },
  {
   "cell_type": "markdown",
   "metadata": {
    "id": "xO8811AU3Ucn"
   },
   "source": [
    "<b>4f. LogisticRegression based on the synthesized full data set</b> <br>\n",
    "Note: <br>\n",
    "1. use as much as possible data for training.\n",
    "2. The coefficients of LogisticRegression gives the probability of the predictor. If coeff < 0, the probability decrease when this predictor increases a unit, when other are fixed. If coeff > 0, the probability increase amount when this predictor increases a unit, when other are fixed. \n"
   ]
  },
  {
   "cell_type": "code",
   "execution_count": 134,
   "metadata": {
    "colab": {
     "base_uri": "https://localhost:8080/"
    },
    "executionInfo": {
     "elapsed": 111,
     "status": "ok",
     "timestamp": 1622920564175,
     "user": {
      "displayName": "Huanwang Yang",
      "photoUrl": "",
      "userId": "17645169575771311833"
     },
     "user_tz": 240
    },
    "id": "YKjW7kEg6on9",
    "outputId": "a9399799-cc2b-49ad-ef58-f142646e890a"
   },
   "outputs": [
    {
     "name": "stdout",
     "output_type": "stream",
     "text": [
      "shape of X=(41176, 51), X_train=(40764, 51),  X_test=(412, 51)\n"
     ]
    }
   ],
   "source": [
    "pd.set_option('display.float_format', '{:.3f}'.format)\n",
    "df_final=df1.copy()\n",
    "X_train, X_test, y_train, y_test = ut.split_data(df_final, size=0.01, \n",
    "                                                 target='y', stratify='no')"
   ]
  },
  {
   "cell_type": "code",
   "execution_count": 135,
   "metadata": {
    "colab": {
     "base_uri": "https://localhost:8080/"
    },
    "executionInfo": {
     "elapsed": 8695,
     "status": "ok",
     "timestamp": 1622920448621,
     "user": {
      "displayName": "Huanwang Yang",
      "photoUrl": "",
      "userId": "17645169575771311833"
     },
     "user_tz": 240
    },
    "id": "tw1irE2S3rFM",
    "outputId": "c5cdabda-a822-4afb-96d8-4756f7f806a7"
   },
   "outputs": [
    {
     "name": "stdout",
     "output_type": "stream",
     "text": [
      "Feature selection:  using ftype= model_XGB nfeature= 30\n",
      "[12:21:20] WARNING: /opt/concourse/worker/volumes/live/7a2b9f41-3287-451b-6691-43e9a6c0910f/volume/xgboost-split_1619728204606/work/src/learner.cc:1061: Starting in XGBoost 1.3.0, the default evaluation metric used with the objective 'binary:logistic' was changed from 'error' to 'logloss'. Explicitly set eval_metric if you'd like to restore the old behavior.\n",
      "The shape of X_train =  (40764, 51)\n",
      "The shape of X_train_select =  (40764, 30)\n",
      "[12:21:22] WARNING: /opt/concourse/worker/volumes/live/7a2b9f41-3287-451b-6691-43e9a6c0910f/volume/xgboost-split_1619728204606/work/src/learner.cc:1061: Starting in XGBoost 1.3.0, the default evaluation metric used with the objective 'binary:logistic' was changed from 'error' to 'logloss'. Explicitly set eval_metric if you'd like to restore the old behavior.\n",
      "                          feature  importance\n",
      "6                     nr.employed       0.505\n",
      "29               poutcome_success       0.067\n",
      "25                      month_oct       0.066\n",
      "3                    emp.var.rate       0.045\n",
      "5                   cons.conf.idx       0.028\n",
      "1                           pdays       0.024\n",
      "19              contact_telephone       0.019\n",
      "17                default_unknown       0.016\n",
      "4                  cons.price.idx       0.014\n",
      "26                day_of_week_mon       0.014\n",
      "22                      month_mar       0.013\n",
      "23                      month_may       0.012\n",
      "21                      month_jun       0.012\n",
      "8                     job_retired       0.011\n",
      "2                        previous       0.011\n",
      "7                 job_blue-collar       0.011\n",
      "9                    job_services       0.010\n",
      "24                      month_nov       0.010\n",
      "13             education_basic.9y       0.010\n",
      "27                day_of_week_thu       0.010\n",
      "20                      month_jul       0.010\n",
      "15  education_professional.course       0.010\n",
      "12             education_basic.6y       0.010\n",
      "14          education_high.school       0.010\n",
      "10                    job_unknown       0.009\n",
      "28                day_of_week_tue       0.009\n",
      "11                 marital_single       0.009\n",
      "0                        campaign       0.009\n",
      "16    education_university.degree       0.008\n",
      "18                       loan_yes       0.008\n"
     ]
    }
   ],
   "source": [
    "X_train_s, X_test_s=ut.feature_selection(X_train, X_test, y_train, y_test, 'model_XGB', 30)"
   ]
  },
  {
   "cell_type": "code",
   "execution_count": 136,
   "metadata": {
    "colab": {
     "base_uri": "https://localhost:8080/"
    },
    "executionInfo": {
     "elapsed": 3697,
     "status": "ok",
     "timestamp": 1622920528289,
     "user": {
      "displayName": "Huanwang Yang",
      "photoUrl": "",
      "userId": "17645169575771311833"
     },
     "user_tz": 240
    },
    "id": "6oaeSFYvgcWf",
    "outputId": "2ae82d25-2c7a-4ec1-f85c-4dae6f029ab9"
   },
   "outputs": [
    {
     "name": "stdout",
     "output_type": "stream",
     "text": [
      "Optimization terminated successfully    (Exit mode 0)\n",
      "            Current function value: 0.27678184802103156\n",
      "            Iterations: 226\n",
      "            Function evaluations: 241\n",
      "            Gradient evaluations: 226\n",
      "                           Logit Regression Results                           \n",
      "==============================================================================\n",
      "Dep. Variable:                      y   No. Observations:                40764\n",
      "Model:                          Logit   Df Residuals:                    40733\n",
      "Method:                           MLE   Df Model:                           30\n",
      "Date:                Sun, 06 Jun 2021   Pseudo R-squ.:                  0.2135\n",
      "Time:                        12:21:57   Log-Likelihood:                -11283.\n",
      "converged:                       True   LL-Null:                       -14345.\n",
      "Covariance Type:            nonrobust   LLR p-value:                     0.000\n",
      "=================================================================================================\n",
      "                                    coef    std err          z      P>|z|      [0.025      0.975]\n",
      "-------------------------------------------------------------------------------------------------\n",
      "const                          -199.2683     22.599     -8.818      0.000    -243.562    -154.975\n",
      "campaign                         -0.0434      0.009     -4.717      0.000      -0.061      -0.025\n",
      "pdays                            -0.0013      0.000     -6.478      0.000      -0.002      -0.001\n",
      "previous                         -0.2702      0.036     -7.468      0.000      -0.341      -0.199\n",
      "emp.var.rate                     -1.1455      0.099    -11.532      0.000      -1.340      -0.951\n",
      "cons.price.idx                    1.8076      0.165     10.951      0.000       1.484       2.131\n",
      "cons.conf.idx                     0.0462      0.005      9.856      0.000       0.037       0.055\n",
      "nr.employed                       0.0061      0.001      4.188      0.000       0.003       0.009\n",
      "job_blue-collar                  -0.1565      0.059     -2.637      0.008      -0.273      -0.040\n",
      "job_retired                       0.2598      0.075      3.450      0.001       0.112       0.407\n",
      "job_services                     -0.1433      0.071     -2.025      0.043      -0.282      -0.005\n",
      "job_unknown                      -0.1145      0.208     -0.550      0.582      -0.522       0.293\n",
      "marital_single                    0.0891      0.039      2.279      0.023       0.012       0.166\n",
      "education_basic.6y                0.0852      0.097      0.879      0.379      -0.105       0.275\n",
      "education_basic.9y               -0.0538      0.073     -0.742      0.458      -0.196       0.088\n",
      "education_high.school             0.0018      0.066      0.028      0.978      -0.127       0.130\n",
      "education_professional.course    -0.0044      0.073     -0.061      0.951      -0.147       0.138\n",
      "education_university.degree       0.0604      0.063      0.956      0.339      -0.064       0.184\n",
      "default_unknown                  -0.2557      0.057     -4.463      0.000      -0.368      -0.143\n",
      "loan_yes                         -0.0322      0.050     -0.645      0.519      -0.130       0.066\n",
      "contact_telephone                -0.7445      0.067    -11.116      0.000      -0.876      -0.613\n",
      "month_jul                        -0.1069      0.072     -1.475      0.140      -0.249       0.035\n",
      "month_jun                        -0.6492      0.109     -5.970      0.000      -0.862      -0.436\n",
      "month_mar                         1.2775      0.105     12.111      0.000       1.071       1.484\n",
      "month_may                        -0.5892      0.053    -11.018      0.000      -0.694      -0.484\n",
      "month_nov                        -0.5385      0.071     -7.547      0.000      -0.678      -0.399\n",
      "month_oct                        -0.1095      0.092     -1.190      0.234      -0.290       0.071\n",
      "day_of_week_mon                  -0.2945      0.050     -5.904      0.000      -0.392      -0.197\n",
      "day_of_week_thu                  -0.0118      0.047     -0.250      0.803      -0.104       0.081\n",
      "day_of_week_tue                  -0.0166      0.049     -0.340      0.734      -0.112       0.079\n",
      "poutcome_success                  0.5289      0.190      2.779      0.005       0.156       0.902\n",
      "=================================================================================================\n"
     ]
    }
   ],
   "source": [
    "xx=X_train_s.reset_index(drop=True)\n",
    "yy=y_train.reset_index(drop=True)\n",
    "xx=sm.add_constant(xx) #add a constant for Logit\n",
    "\n",
    "logit_model=sm.Logit(yy,xx)\n",
    "#result=logit_model.fit(method='bfgs', maxiter=1000)\n",
    "result=logit_model.fit_regularized(penalty='l2', class_weight='balanced')\n",
    "#result=logit_model.fit_regularized(penalty='l1')\n",
    "#result=logit_model.fit()\n",
    "print(result.summary())\n"
   ]
  },
  {
   "cell_type": "markdown",
   "metadata": {},
   "source": [
    "Note: The coefficients with Pvalue < 0.05 are not statistically significant. "
   ]
  }
 ],
 "metadata": {
  "colab": {
   "collapsed_sections": [],
   "name": "IXIS-banking.ipynb",
   "provenance": []
  },
  "kernelspec": {
   "display_name": "Python 3",
   "language": "python",
   "name": "python3"
  },
  "language_info": {
   "codemirror_mode": {
    "name": "ipython",
    "version": 3
   },
   "file_extension": ".py",
   "mimetype": "text/x-python",
   "name": "python",
   "nbconvert_exporter": "python",
   "pygments_lexer": "ipython3",
   "version": "3.8.3"
  }
 },
 "nbformat": 4,
 "nbformat_minor": 1
}
