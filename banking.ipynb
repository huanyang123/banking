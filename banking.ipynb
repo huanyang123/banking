{
 "cells": [
  {
   "cell_type": "markdown",
   "metadata": {},
   "source": [
    "# A complete analysis for predicting banking behavior by the classification method.\n",
    "\n",
    "#                        By Huanwang Shawn Yang\n",
    "\n",
    "\n",
    "The data was obtained from the UCI data resource http://archive.ics.uci.edu/ml/datasets/Bank+Marketing\n",
    "\n",
    "\n",
    "# Summary: \n",
    "\n",
    "Here, I utilized Machine Learning (classification) algorithms to predict the banking behavior based on 41188 observations and 20 features. This project serves as two purposes:\n",
    "\n",
    "1. Explore data analysis to achieve the best prediction (best modeling) of for classification. \n",
    "\n",
    "2. Test the python module that I have developed to automatically pick the best ML algorithm and the best hyperparameters from a large list of Sklearn library. It also serves as a prototype for feature selections. This model is significantly better than the prediction found from the public domain https://towardsdatascience.com/building-a-logistic-regression-in-python-step-by-step-becd4d56c9c8 \n",
    "\n",
    "\n",
    "# Understand the data below\n",
    "\n",
    "The data is related with direct marketing campaigns (phone calls) of a Portuguese banking institution. The classification goal is to predict if the client will subscribe a term deposit (if variable y=1, yes; if y=0, no). Below is the feature Information:\n",
    "\n",
    "\n",
    "# bank client data:\n",
    "1 - age (numeric)   \n",
    "2 - job : type of job (categorical: 'admin.','blue-collar','entrepreneur','housemaid','management','retired','self-employed','services','student','technician','unemployed','unknown')  \n",
    "3 - marital : marital status (categorical: 'divorced','married','single','unknown'; note: 'divorced' means divorced or widowed)   \n",
    "4 - education (categorical: 'basic.4y','basic.6y','basic.9y','high.school', 'illiterate', 'professional.course', 'university.degree', 'unknown')  \n",
    "5 - default: has credit in default? (categorical: 'no','yes','unknown')  \n",
    "6 - housing: has housing loan? (categorical: 'no','yes','unknown')  \n",
    "7 - loan: has personal loan? (categorical: 'no','yes','unknown')  \n",
    "\n",
    "# related with the last contact of the current campaign:\n",
    "8 - contact: contact communication type (categorical: 'cellular','telephone')  \n",
    "9 - month: last contact month of year (categorical: 'jan', 'feb', 'mar', ..., 'nov', 'dec')  \n",
    "10 - day_of_week: last contact day of the week (categorical: 'mon','tue','wed','thu','fri')  \n",
    "11 - duration: last contact duration, in seconds (numeric). Important note: this attribute highly affects the output target (e.g., if duration=0 then y='no'). Yet, the duration is not known before a call is performed. Also, after the end of the call y is obviously known. Thus, this input should only be included for benchmark purposes and should be discarded if the intention is to have a realistic predictive model. \n",
    "  \n",
    "# other attributes:\n",
    "12 - campaign: number of contacts performed during this campaign and for this client (numeric, includes last contact) \n",
    "13 - pdays: number of days that passed by after the client was last contacted from a previous campaign (numeric; 999 means client was not previously contacted)   \n",
    "14 - previous: number of contacts performed before this campaign and for this client (numeric)  \n",
    "15 - poutcome: outcome of the previous marketing campaign (categorical: 'failure','nonexistent','success')   \n",
    "\n",
    "# social and economic context attributes\n",
    "16 - emp.var.rate: employment variation rate - quarterly indicator (numeric)  \n",
    "17 - cons.price.idx: consumer price index - monthly indicator (numeric)   \n",
    "18 - cons.conf.idx: consumer confidence index - monthly indicator (numeric)   \n",
    "19 - euribor3m: euribor 3 month rate - daily indicator (numeric)   \n",
    "20 - nr.employed: number of employees - quarterly indicator (numeric)  \n",
    "\n",
    "Output variable (desired target):\n",
    "21 - y - has the client subscribed a term deposit? (binary: 'yes','no')\n"
   ]
  },
  {
   "cell_type": "code",
   "execution_count": 1,
   "metadata": {},
   "outputs": [
    {
     "name": "stderr",
     "output_type": "stream",
     "text": [
      "/Users/hyang/anaconda2/lib/python2.7/site-packages/sklearn/cross_validation.py:41: DeprecationWarning: This module was deprecated in version 0.18 in favor of the model_selection module into which all the refactored classes and functions are moved. Also note that the interface of the new CV iterators are different from that of this module. This module will be removed in 0.20.\n",
      "  \"This module will be removed in 0.20.\", DeprecationWarning)\n"
     ]
    }
   ],
   "source": [
    "import sys  #utilized the auto-selection module that I developed\n",
    "sys.path.append('/Users/hyang/data-science/Pyth/ML-tune/')\n",
    "\n",
    "import pandas as pd\n",
    "import numpy as np\n",
    "from sklearn import preprocessing\n",
    "import matplotlib.pyplot as plt \n",
    "plt.rc(\"font\", size=16)\n",
    "from sklearn.cross_validation import train_test_split\n",
    "import seaborn as sns\n",
    "import warnings\n",
    "warnings.filterwarnings('ignore')\n",
    "\n",
    "sns.set(style=\"white\")\n",
    "sns.set(style=\"whitegrid\", color_codes=True)\n",
    "%matplotlib inline\n"
   ]
  },
  {
   "cell_type": "code",
   "execution_count": 2,
   "metadata": {},
   "outputs": [
    {
     "name": "stdout",
     "output_type": "stream",
     "text": [
      "numerical features= ['age' 'duration' 'campaign' 'pdays' 'previous' 'emp_var_rate'\n",
      " 'cons_price_idx' 'cons_conf_idx' 'euribor3m' 'nr_employed' 'y']\n",
      "\n",
      "categorical features= ['job' 'marital' 'education' 'default' 'housing' 'loan' 'contact' 'month'\n",
      " 'day_of_week' 'poutcome']\n",
      "   age          job  marital          education  default housing loan  \\\n",
      "0   44  blue-collar  married           basic.4y  unknown     yes   no   \n",
      "1   53   technician  married            unknown       no      no   no   \n",
      "2   28   management   single  university.degree       no     yes   no   \n",
      "3   39     services  married        high.school       no      no   no   \n",
      "4   55      retired  married           basic.4y       no     yes   no   \n",
      "\n",
      "    contact month day_of_week ...  campaign  pdays  previous     poutcome  \\\n",
      "0  cellular   aug         thu ...         1    999         0  nonexistent   \n",
      "1  cellular   nov         fri ...         1    999         0  nonexistent   \n",
      "2  cellular   jun         thu ...         3      6         2      success   \n",
      "3  cellular   apr         fri ...         2    999         0  nonexistent   \n",
      "4  cellular   aug         fri ...         1      3         1      success   \n",
      "\n",
      "  emp_var_rate  cons_price_idx  cons_conf_idx  euribor3m  nr_employed  y  \n",
      "0          1.4          93.444          -36.1      4.963       5228.1  0  \n",
      "1         -0.1          93.200          -42.0      4.021       5195.8  0  \n",
      "2         -1.7          94.055          -39.8      0.729       4991.6  1  \n",
      "3         -1.8          93.075          -47.1      1.405       5099.1  0  \n",
      "4         -2.9          92.201          -31.4      0.869       5076.2  1  \n",
      "\n",
      "[5 rows x 21 columns]\n",
      "data shape= (41188, 21)\n",
      "missing value= False\n",
      "Education=\n",
      "['basic' 'unknown' 'university.degree' 'high.school' 'professional.course'\n",
      " 'illiterate']\n",
      "0    36548\n",
      "1     4640\n",
      "Name: y, dtype: int64\n"
     ]
    }
   ],
   "source": [
    "#load data and show information\n",
    "\n",
    "data=pd.read_csv('banking.csv', header=0)\n",
    "\n",
    "numdf = data.select_dtypes(include=[np.number])\n",
    "catdf = data.select_dtypes(exclude=[np.number])\n",
    "print 'numerical features=', numdf.columns.values\n",
    "print '\\ncategorical features=', catdf.columns.values\n",
    "\n",
    "print data.head()\n",
    "print 'data shape=', data.shape\n",
    "print 'missing value=', data.isnull().values.any() \n",
    "\n",
    "data.loc[:'education'].replace(['basic.4y','basic.6y','basic.9y'], \n",
    "                               ['basic','basic','basic' ], inplace=True)\n",
    "\n",
    "print 'Education=\\n', data['education'].unique()\n",
    "print data.y.value_counts()\n",
    "#print data.groupby('y').mean()\n",
    "#print data.groupby('education').mean()\n",
    "\n"
   ]
  },
  {
   "cell_type": "code",
   "execution_count": 3,
   "metadata": {
    "scrolled": true
   },
   "outputs": [
    {
     "data": {
      "image/png": "[encoded data removed]",
      "text/plain": [
       "<matplotlib.figure.Figure at 0x105502b50>"
      ]
     },
     "metadata": {},
     "output_type": "display_data"
    },
    {
     "data": {
      "image/png": "[encoded data removed]",
      "text/plain": [
       "<matplotlib.figure.Figure at 0x1a0aa41890>"
      ]
     },
     "metadata": {},
     "output_type": "display_data"
    },
    {
     "data": {
      "image/png": "[encoded data removed]",
      "text/plain": [
       "<matplotlib.figure.Figure at 0x1a0b9ebdd0>"
      ]
     },
     "metadata": {},
     "output_type": "display_data"
    },
    {
     "data": {
      "image/png": "[encoded data removed]",
      "text/plain": [
       "<matplotlib.figure.Figure at 0x105502a50>"
      ]
     },
     "metadata": {},
     "output_type": "display_data"
    },
    {
     "data": {
      "image/png": "[encoded data removed]",
      "text/plain": [
       "<matplotlib.figure.Figure at 0x1a1559a210>"
      ]
     },
     "metadata": {},
     "output_type": "display_data"
    }
   ],
   "source": [
    "#visulize some data\n",
    "sns.countplot(data=data, x='y', palette='hls')\n",
    "#plt.savefig('count_plot')\n",
    "\n",
    "#print data.groupby('y').mean()\n",
    "#print data.groupby('education').mean()\n",
    "\n",
    "#some visualizations\n",
    "pd.crosstab(data.job, data.y).plot(kind='bar')\n",
    "plt.title('Purchase Frequency for Job Title')\n",
    "plt.xlabel('Job')\n",
    "plt.ylabel('Frequency of Purchase')\n",
    "#plt.savefig('purchase_fre_job')\n",
    "\n",
    "#make new graph\n",
    "table=pd.crosstab(data.education,data.y)\n",
    "table.div(table.sum(1).astype(float), axis=0).plot(kind='bar', stacked=True)\n",
    "plt.title('Stacked Bar Chart of Education vs Purchase')\n",
    "plt.xlabel('Education')\n",
    "plt.ylabel('Proportion of Customers')\n",
    "#plt.savefig('edu_vs_pur_stack')\n",
    "\n",
    "#check age\n",
    "sns.countplot(data=data, x='age', palette='hls')\n",
    "plt.show()\n",
    "\n",
    "plt.hist(x=data.age)\n",
    "plt.title('Histogram of Age')\n",
    "plt.xlabel('Age')\n",
    "plt.ylabel('Frequency')\n",
    "#plt.savefig('hist_age')\n",
    "plt.show()\n",
    "\n",
    "pd.crosstab(data.poutcome,data.y).plot(kind='bar')\n",
    "plt.title('Purchase Frequency for Poutcome')\n",
    "plt.xlabel('Poutcome')\n",
    "plt.ylabel('Frequency of Purchase')\n",
    "plt.savefig('pur_fre_pout_bar')\n",
    "\n",
    "#data.info()\n"
   ]
  },
  {
   "cell_type": "code",
   "execution_count": 4,
   "metadata": {},
   "outputs": [
    {
     "name": "stdout",
     "output_type": "stream",
     "text": [
      "Shape after adding dummies= (41188, 62)\n"
     ]
    }
   ],
   "source": [
    "#add dummy variables (regression need number), drop the first one (duplicated)\n",
    "cat_vars=['job','marital','education','default','housing','loan',\n",
    "          'contact','month','day_of_week','poutcome']\n",
    "\n",
    "for var in cat_vars:\n",
    "    cat_list = pd.get_dummies(data[var], prefix=var, drop_first=True)\n",
    "    data=data.join(cat_list)\n",
    "\n",
    "#print data.info()\n",
    "#print data.columns.values\n",
    "print 'Shape after adding dummies=', data.shape\n"
   ]
  },
  {
   "cell_type": "code",
   "execution_count": 5,
   "metadata": {},
   "outputs": [
    {
     "name": "stdout",
     "output_type": "stream",
     "text": [
      "Training set (28831) and test set (12357).\n",
      "shape of X_train & y_train = (28831, 51) (28831,)\n"
     ]
    }
   ],
   "source": [
    "# get the final data\n",
    "data_vars=data.columns.values.tolist()\n",
    "to_keep=[i for i in data_vars if i not in cat_vars] \n",
    "\n",
    "data_final=data[to_keep]\n",
    "\n",
    "X=data_final.drop('y', axis=1)\n",
    "y=data_final['y']\n",
    "\n",
    "X_train, X_test, y_train, y_test = train_test_split(X, y, test_size=0.3, random_state=0)\n",
    "\n",
    "print 'Training set (%d) and test set (%d).' %(len(X_train), len(X_test))\n",
    "print 'shape of X_train & y_train =', X_train.shape, y_train.shape\n"
   ]
  },
  {
   "cell_type": "code",
   "execution_count": 6,
   "metadata": {
    "scrolled": true
   },
   "outputs": [
    {
     "name": "stdout",
     "output_type": "stream",
     "text": [
      "The shape of Xtrain =  (28831, 51)\n",
      "The shape of Xtrain_select =  (28831, 20)\n",
      "The socre of LogisticRegression = 0.9123\n",
      "After feature selection: shape of X_train & y_train = (28831, 20) (28831,)\n"
     ]
    }
   ],
   "source": [
    "import ml_utility as ut\n",
    "X_train, X_test=ut.feature_selection(X_train, X_test, y_train, y_test, 'RFE', 20)\n",
    "#X_train, X_test=ut.feature_selection(X_train, X_test, y_train, y_test, 'model', 20)\n",
    "print 'After feature selection: shape of X_train & y_train =', X_train.shape, y_train.shape\n"
   ]
  },
  {
   "cell_type": "code",
   "execution_count": 7,
   "metadata": {},
   "outputs": [
    {
     "name": "stdout",
     "output_type": "stream",
     "text": [
      "\n",
      "Tuning hyperparameters for sklearn.xgboost.XGBClassifier ...\n",
      "('\\nbest_score=', 0.9135305747285908)\n",
      "('best_params=', {})\n",
      "('best_estimator=', XGBClassifier(base_score=0.5, colsample_bytree=1, gamma=0, learning_rate=0.1,\n",
      "       max_delta_step=0, max_depth=3, min_child_weight=1, n_estimators=100,\n",
      "       nthread=-1, objective='binary:logistic', seed=0, silent=True,\n",
      "       subsample=1))\n"
     ]
    }
   ],
   "source": [
    "\n",
    "import ml_tune_para as tune\n",
    "\n",
    "#tuning paramters\n",
    "#tune.auto_tune_classifier(X_train, y_train)\n",
    "#tune.tune_classifier('RandomForestClassifier', X_train, y_train)\n",
    "#tune.tune_classifier('LogisticRegression', X_train, y_train)\n",
    "#tune.tune_classifier('GaussianProcessClassifier', X_train, y_train)\n",
    "tune.tune_classifier('XGBClassifier', X_train, y_train)\n",
    "#tune.tune_classifier('GradientBoostingClassifier', X_train, y_train)\n"
   ]
  },
  {
   "cell_type": "code",
   "execution_count": 8,
   "metadata": {},
   "outputs": [
    {
     "name": "stdout",
     "output_type": "stream",
     "text": [
      "The auto-tuned hyperparameters below:\n",
      "\n",
      "score= 0.912698\n",
      "hyper_para= {'max_features': 'sqrt', 'n_estimators': 100, 'criterion': 'gini', 'max_depth': None}\n",
      "model= RandomForestClassifier(bootstrap=True, class_weight=None, criterion='gini',\n",
      "            max_depth=None, max_features='sqrt', max_leaf_nodes=None,\n",
      "            min_impurity_decrease=0.0, min_impurity_split=None,\n",
      "            min_samples_leaf=1, min_samples_split=2,\n",
      "            min_weight_fraction_leaf=0.0, n_estimators=100, n_jobs=1,\n",
      "            oob_score=False, random_state=None, verbose=0,\n",
      "            warm_start=False)\n",
      "\n",
      "score= 0.911588\n",
      "hyper_para= {'max_features': None, 'splitter': 'best', 'max_depth': 4}\n",
      "model= DecisionTreeClassifier(class_weight=None, criterion='gini', max_depth=4,\n",
      "            max_features=None, max_leaf_nodes=None,\n",
      "            min_impurity_decrease=0.0, min_impurity_split=None,\n",
      "            min_samples_leaf=1, min_samples_split=2,\n",
      "            min_weight_fraction_leaf=0.0, presort=False, random_state=None,\n",
      "            splitter='best')\n",
      "\n",
      "score= 0.910478\n",
      "hyper_para= {'n_neighbors': 23, 'weights': 'distance'}\n",
      "model= KNeighborsClassifier(algorithm='auto', leaf_size=30, metric='minkowski',\n",
      "           metric_params=None, n_jobs=1, n_neighbors=23, p=2,\n",
      "           weights='distance')\n",
      "\n",
      "score= 0.910027\n",
      "hyper_para= {'max_features': 'auto', 'loss': 'deviance', 'learning_rate': 1.0, 'n_estimators': 100, 'max_depth': 1}\n",
      "model= GradientBoostingClassifier(criterion='friedman_mse', init=None,\n",
      "              learning_rate=1.0, loss='deviance', max_depth=1,\n",
      "              max_features='auto', max_leaf_nodes=None,\n",
      "              min_impurity_decrease=0.0, min_impurity_split=None,\n",
      "              min_samples_leaf=1, min_samples_split=2,\n",
      "              min_weight_fraction_leaf=0.0, n_estimators=100,\n",
      "              presort='auto', random_state=None, subsample=1.0, verbose=0,\n",
      "              warm_start=False)\n",
      "\n",
      "score= 0.909195\n",
      "hyper_para= {'n_estimators': 100, 'algorithm': 'SAMME.R'}\n",
      "model= AdaBoostClassifier(algorithm='SAMME.R', base_estimator=None,\n",
      "          learning_rate=1.0, n_estimators=100, random_state=None)\n",
      "\n",
      "score= 0.908813\n",
      "hyper_para= {'penalty': 'l2', 'solver': 'newton-cg', 'class_weight': None}\n",
      "model= LogisticRegression(C=1.0, class_weight=None, dual=False, fit_intercept=True,\n",
      "          intercept_scaling=1, max_iter=100, multi_class='ovr', n_jobs=1,\n",
      "          penalty='l2', random_state=None, solver='newton-cg', tol=0.0001,\n",
      "          verbose=0, warm_start=False)\n",
      "\n",
      "score= 0.906836\n",
      "hyper_para= {'solver': 'svd'}\n",
      "model= LinearDiscriminantAnalysis(n_components=None, priors=None, shrinkage=None,\n",
      "              solver='svd', store_covariance=False, tol=0.0001)\n",
      "\n",
      "score= 0.905831\n",
      "hyper_para= {'max_features': 'sqrt', 'n_estimators': 100, 'criterion': 'entropy', 'max_depth': None}\n",
      "model= ExtraTreesClassifier(bootstrap=False, class_weight=None, criterion='entropy',\n",
      "           max_depth=None, max_features='sqrt', max_leaf_nodes=None,\n",
      "           min_impurity_decrease=0.0, min_impurity_split=None,\n",
      "           min_samples_leaf=1, min_samples_split=2,\n",
      "           min_weight_fraction_leaf=0.0, n_estimators=100, n_jobs=1,\n",
      "           oob_score=False, random_state=None, verbose=0, warm_start=False)\n",
      "\n",
      "score= 0.895703\n",
      "hyper_para= {'penalty': 'l1', 'loss': 'modified_huber'}\n",
      "model= SGDClassifier(alpha=0.0001, average=False, class_weight=None, epsilon=0.1,\n",
      "       eta0=0.0, fit_intercept=True, l1_ratio=0.15,\n",
      "       learning_rate='optimal', loss='modified_huber', max_iter=None,\n",
      "       n_iter=None, n_jobs=1, penalty='l1', power_t=0.5, random_state=None,\n",
      "       shuffle=True, tol=None, verbose=0, warm_start=False)\n",
      "\n",
      "score= 0.894523\n",
      "hyper_para= {'solver': 'adam'}\n",
      "model= MLPClassifier(activation='relu', alpha=0.0001, batch_size='auto', beta_1=0.9,\n",
      "       beta_2=0.999, early_stopping=False, epsilon=1e-08,\n",
      "       hidden_layer_sizes=(100,), learning_rate='constant',\n",
      "       learning_rate_init=0.001, max_iter=200, momentum=0.9,\n",
      "       nesterovs_momentum=True, power_t=0.5, random_state=None,\n",
      "       shuffle=True, solver='adam', tol=0.0001, validation_fraction=0.1,\n",
      "       verbose=False, warm_start=False)\n",
      "\n",
      "score= 0.886927\n",
      "hyper_para= {}\n",
      "model= BernoulliNB(alpha=1.0, binarize=0.0, class_prior=None, fit_prior=True)\n",
      "\n",
      "score= 0.879193\n",
      "hyper_para= {}\n",
      "model= QuadraticDiscriminantAnalysis(priors=None, reg_param=0.0,\n",
      "               store_covariance=False, store_covariances=None, tol=0.0001)\n",
      "\n",
      "score= 0.879088\n",
      "hyper_para= {}\n",
      "model= GaussianNB(priors=None)\n",
      "\n",
      "score= 0.820991\n",
      "hyper_para= {'penalty': 'l2', 'loss': 'squared_hinge'}\n",
      "model= LinearSVC(C=1.0, class_weight=None, dual=True, fit_intercept=True,\n",
      "     intercept_scaling=1, loss='squared_hinge', max_iter=1000,\n",
      "     multi_class='ovr', penalty='l2', random_state=None, tol=0.0001,\n",
      "     verbose=0)\n",
      "\n"
     ]
    }
   ],
   "source": [
    "# print all the trained models and hyperparameters in order\n",
    "\n",
    "fp=open('tuned_para.log', 'r').readlines()\n",
    "print 'The auto-tuned hyperparameters below:\\n'\n",
    "for x in fp : print x.rstrip()"
   ]
  },
  {
   "cell_type": "code",
   "execution_count": 9,
   "metadata": {},
   "outputs": [
    {
     "name": "stdout",
     "output_type": "stream",
     "text": [
      "Accuracy of RandomForest classifier on test set: 0.92\n",
      "Classification accuracy= 0.917779396294\n",
      "Classification AUC_ROC=  0.73856134036\n",
      "Confusion_matrix=\n",
      "[[10642   339]\n",
      " [  677   699]]\n",
      "\n",
      "Classification_report=\n",
      "             precision    recall  f1-score   support\n",
      "\n",
      "          0       0.94      0.97      0.95     10981\n",
      "          1       0.67      0.51      0.58      1376\n",
      "\n",
      "avg / total       0.91      0.92      0.91     12357\n",
      "\n"
     ]
    },
    {
     "data": {
      "image/png": "[encoded data removed]",
      "text/plain": [
       "<matplotlib.figure.Figure at 0x1a155e1a50>"
      ]
     },
     "metadata": {},
     "output_type": "display_data"
    }
   ],
   "source": [
    "#fitting the model selected from the best training\n",
    "from  sklearn.ensemble import RandomForestClassifier\n",
    "from  sklearn.linear_model import LogisticRegression\n",
    "from  sklearn.linear_model import Perceptron\n",
    "from  xgboost import XGBClassifier\n",
    "\n",
    "model= RandomForestClassifier(bootstrap=True, class_weight=None, criterion='gini',\n",
    "            max_depth=None, max_features='sqrt', max_leaf_nodes=None,\n",
    "            min_impurity_decrease=0.0, min_impurity_split=None,\n",
    "            min_samples_leaf=1, min_samples_split=2,\n",
    "            min_weight_fraction_leaf=0.0, n_estimators=100, n_jobs=1,\n",
    "            oob_score=False, random_state=None, verbose=0,\n",
    "            warm_start=False)\n",
    "\n",
    "model=XGBClassifier(base_score=0.5, colsample_bytree=1, gamma=0, learning_rate=0.1,\n",
    "       max_delta_step=0, max_depth=3, min_child_weight=1, n_estimators=100,\n",
    "       nthread=-1, objective='binary:logistic', seed=0, silent=True,\n",
    "       subsample=1)\n",
    "\n",
    "model.fit(X_train, y_train)\n",
    "y_pred = model.predict(X_test)\n",
    "\n",
    "print('Accuracy of RandomForest classifier on test set: {:.2f}'.format(\n",
    "    model.score(X_test, y_test)))\n",
    "\n",
    "tune.write_result_class(X_test, y_test, y_pred,  model)\n",
    "\n"
   ]
  },
  {
   "cell_type": "code",
   "execution_count": 10,
   "metadata": {},
   "outputs": [
    {
     "name": "stdout",
     "output_type": "stream",
     "text": [
      "Perform 10 folder cross validation for the training data.\n",
      "\n",
      "XGBClassifier(base_score=0.5, colsample_bytree=1, gamma=0, learning_rate=0.1,\n",
      "       max_delta_step=0, max_depth=3, min_child_weight=1, n_estimators=100,\n",
      "       nthread=-1, objective='binary:logistic', seed=0, silent=True,\n",
      "       subsample=1): \n",
      "\n",
      "accuracy=0.913253 (std=0.004022)\n"
     ]
    }
   ],
   "source": [
    "# Do cross validation \n",
    "from sklearn import model_selection\n",
    "\n",
    "print 'Perform 10 folder cross validation for the training data.'\n",
    "kfold = model_selection.KFold(n_splits=10, random_state=7)\n",
    "cv_results = model_selection.cross_val_score(model,X_train, y_train, cv=kfold, scoring='accuracy')\n",
    "msg = \"\\n%s: \\n\\naccuracy=%f (std=%f)\" % (model, cv_results.mean(), cv_results.std())\n",
    "print(msg)\n"
   ]
  },
  {
   "cell_type": "code",
   "execution_count": null,
   "metadata": {
    "collapsed": true
   },
   "outputs": [],
   "source": []
  }
 ],
 "metadata": {
  "kernelspec": {
   "display_name": "Python 2",
   "language": "python",
   "name": "python2"
  },
  "language_info": {
   "codemirror_mode": {
    "name": "ipython",
    "version": 2
   },
   "file_extension": ".py",
   "mimetype": "text/x-python",
   "name": "python",
   "nbconvert_exporter": "python",
   "pygments_lexer": "ipython2",
   "version": "2.7.14"
  }
 },
 "nbformat": 4,
 "nbformat_minor": 2
}
